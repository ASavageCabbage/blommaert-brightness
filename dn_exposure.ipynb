{
 "cells": [
  {
   "cell_type": "code",
   "execution_count": 3,
   "id": "a0f4defa-a1db-4a64-b135-a2a1e7a6582f",
   "metadata": {},
   "outputs": [],
   "source": [
    "from src import dino\n",
    "from src.tone_mappers.bronto import bronto\n",
    "\n",
    "\n",
    "\n",
    "\n",
    "input_file = \"images/LuxoDoubleChecker.exr\" # replace with your actual file of interest\n",
    "image = dino.read_image(input_file)\n",
    "tonemapped = bronto(image)\n",
    "output_file = \"_output/bronto_tonemapped.png\"\n",
    "dino.write_image(output_file, tonemapped)\n",
    "\n",
    "\n",
    "\n",
    "\n",
    "\n",
    "\n",
    "    \n",
    "\n",
    "\n"
   ]
  }
 ],
 "metadata": {
  "kernelspec": {
   "display_name": "Python 3 (ipykernel)",
   "language": "python",
   "name": "python3"
  },
  "language_info": {
   "codemirror_mode": {
    "name": "ipython",
    "version": 3
   },
   "file_extension": ".py",
   "mimetype": "text/x-python",
   "name": "python",
   "nbconvert_exporter": "python",
   "pygments_lexer": "ipython3",
   "version": "3.11.5"
  }
 },
 "nbformat": 4,
 "nbformat_minor": 5
}
