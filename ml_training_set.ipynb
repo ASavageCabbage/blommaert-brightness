{
 "cells": [
  {
   "cell_type": "code",
   "execution_count": null,
   "id": "a3a2eb05-3011-4ced-b802-2fdf8f4410ab",
   "metadata": {},
   "outputs": [],
   "source": [
    "from pathlib import Path\n",
    "\n",
    "import cv2\n",
    "import numpy as np\n",
    "import pandas as pd\n",
    "from tqdm.auto import tqdm\n",
    "\n",
    "import src.dino as dino\n",
    "# from src import plotting\n",
    "\n",
    "DOWNSAMPLE_RATIO = 4\n",
    "\n",
    "def get_value_below(df, value):\n",
    "    df_with_value = df.where(df==value).dropna(how=\"all\").dropna(axis=1)\n",
    "    row = df_with_value.index[0]\n",
    "    column = df_with_value.columns[0]\n",
    "    return df[column][row+1]\n",
    "\n",
    "\n",
    "# Generate brightness response images for all inputs\n",
    "data_dir = Path(\"training\")\n",
    "for file in tqdm(list((data_dir / \"images\").iterdir()), desc=\"generating training set\"):\n",
    "    if not file.suffix in [\".exr\", \".hdr\"]:\n",
    "        print(f\"{file} is not an HDR image, skipping...\")\n",
    "        continue\n",
    "    export_path = str(data_dir / \"brightnesses\" / file.stem) + \".npy\"\n",
    "    if Path(export_path).exists():\n",
    "        print(f\"{export_path} already exists\")\n",
    "        brightness = np.load(export_path)\n",
    "        print(brightness.shape)\n",
    "        continue\n",
    "    data_file = str(data_dir / \"image_data\" / file.stem) + \"Data.xls\"\n",
    "    data_pd = pd.read_excel(data_file)\n",
    "    stated_dyn_range = get_value_below(data_pd, \"Dyn. Range\")\n",
    "    max_L = get_value_below(data_pd, \"Max.\")\n",
    "    min_L = get_value_below(data_pd, \"Min.\")\n",
    "    mean_L = float(get_value_below(data_pd, \"Mean\"))\n",
    "    image = dino.read_image(str(file))\n",
    "    image = dino.resize_image(image, resize_width=round(image.shape[1]/DOWNSAMPLE_RATIO))\n",
    "    L = dino.fairchild_to_relative_luminance(image)\n",
    "    # Scale to stated luminance range\n",
    "    L = (L / np.mean(L)) * mean_L\n",
    "    actual_dyn_range = round(np.max(L) / np.min(L)) if np.min(L) > 0 else \"inf\"\n",
    "    print(f\"Stated vs actual dynamic range: {stated_dyn_range} vs {actual_dyn_range} (max: {round(np.max(L))}, min: {round(np.min(L), 1)})\")\n",
    "    print(f\"Stated vs actual mean luminance: {mean_L} vs {round(np.mean(L), 1)}\")\n",
    "    brightness = dino.dn_brightness_model(L)\n",
    "    # L = torch.Tensor(L).to(\"cuda\")\n",
    "    # brightness = dino.pytorch.dn_brightness_model(L)\n",
    "    # brightness = brightness.detach().cpu().to_numpy()\n",
    "    print(brightness.shape)\n",
    "    print(f\"Exporting {export_path}\")\n",
    "    np.save(export_path, brightness)\n",
    "    # Visualize brightness response\n",
    "    # plotting.image_pseudocolor_plot(brightness, title=file.stem, cmap=\"Grays_r\", display=True)"
   ]
  }
 ],
 "metadata": {
  "kernelspec": {
   "display_name": "Python 3 (ipykernel)",
   "language": "python",
   "name": "python3"
  },
  "language_info": {
   "codemirror_mode": {
    "name": "ipython",
    "version": 3
   },
   "file_extension": ".py",
   "mimetype": "text/x-python",
   "name": "python",
   "nbconvert_exporter": "python",
   "pygments_lexer": "ipython3",
   "version": "3.12.3"
  }
 },
 "nbformat": 4,
 "nbformat_minor": 5
}
