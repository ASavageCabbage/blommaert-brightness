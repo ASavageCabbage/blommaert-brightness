{
 "cells": [
  {
   "cell_type": "code",
   "execution_count": 1,
   "id": "a06ddaaa-b2d7-4da8-a0ef-9c2894042ebe",
   "metadata": {},
   "outputs": [],
   "source": [
    "import torch\n",
    "import torch.nn as nn\n",
    "import torch.optim as optim\n",
    "from torchvision.transforms import GaussianBlur\n",
    "\n",
    "from brightness import dino\n",
    "from brightness.tone_mappers.aces import aces\n",
    "\n",
    "def tensor_rgb_to_xyz(image):\n",
    "    rgb_to_xyz_matrix = torch.Tensor(\n",
    "        [\n",
    "            [0.4124564, 0.3575761, 0.1804375],\n",
    "            [0.2126729, 0.7151522, 0.0721750],\n",
    "            [0.0193339, 0.1191920, 0.9503041],\n",
    "        ]\n",
    "    ).to(image.device)\n",
    "    xyz = image @ rgb_to_xyz_matrix.T\n",
    "    return xyz[..., 0], xyz[..., 1], xyz[..., 2]\n",
    "\n",
    "\n",
    "def pytorch_gaussian_blur(image, sigma):\n",
    "    blur = GaussianBlur(kernel_size=int(2 * sigma + 1) | 1, sigma=sigma)\n",
    "    if len(image.size()) < 3:\n",
    "        image = image.unsqueeze(0)\n",
    "    return blur(image).squeeze()\n",
    "\n",
    "\n",
    "def pytorch_dn_brightness_model(\n",
    "    L: torch.Tensor,\n",
    "    cs_ratio: float = 2.0,\n",
    "    min_scale: float = 1.0,\n",
    "    w: float = 0.85,\n",
    "    a: float = 1.0,\n",
    "    b: float = 1.0,\n",
    "    c: float = 1.0,\n",
    "    d: float = 1.0,\n",
    "    scale_normalized_constants: bool = False,\n",
    ") -> torch.Tensor:\n",
    "    max_scale = min(*L.size())\n",
    "    scale = max_scale / cs_ratio\n",
    "    scales = []\n",
    "    while scale >= min_scale:\n",
    "        scales.insert(0, scale)\n",
    "        scale /= cs_ratio\n",
    "    weights = [w**i for i in range(len(scales))]\n",
    "    # Initialize weighted_sum as a 2D array\n",
    "    weighted_sum = torch.zeros(L.size()[:2]).to(L.device)\n",
    "    # Compute ratios and weighted sum using only two blurred images at a time\n",
    "    center_response = pytorch_gaussian_blur(L, scales[0])\n",
    "    for i in range(1, len(scales)):\n",
    "        surround_response = pytorch_gaussian_blur(L, scales[i])\n",
    "        assert center_response.ndim == 2\n",
    "        assert surround_response.ndim == 2\n",
    "        _b = b\n",
    "        _d = d\n",
    "        if scale_normalized_constants:\n",
    "            _b /= scales[i] ** 2\n",
    "            _d /= scales[i] ** 2\n",
    "        weighted_sum += weights[i - 1] * (\n",
    "            (a * center_response + _b) / (c * surround_response + _d) - _b / _d\n",
    "        )\n",
    "        center_response = surround_response\n",
    "    return weighted_sum\n",
    "\n",
    "\n",
    "class ACESModel(nn.Module):\n",
    "    W = 0.9\n",
    "    A = 1\n",
    "    B = 1\n",
    "    C = 1\n",
    "    D = 1\n",
    "    SCALE_NORMALIZED = True\n",
    "    \n",
    "    def __init__(self):\n",
    "        super(ACESModel, self).__init__()\n",
    "        # a, b, c, d, e\n",
    "        self.weights = nn.Parameter(torch.rand(4))\n",
    "\n",
    "    def forward(self, x):\n",
    "        a, b, d, e = self.weights\n",
    "        tonemapped_x = torch.squeeze(aces(x, a, b, a, d, e)) # c = a\n",
    "        X, Y, Z = tensor_rgb_to_xyz(tonemapped_x)\n",
    "        L, _, _ = dino.xyz_to_lxy(X, Y, Z)\n",
    "        brightness_response = pytorch_dn_brightness_model(\n",
    "            L,\n",
    "            w=self.W,\n",
    "            a=self.A,\n",
    "            b=self.B,\n",
    "            c=self.C,\n",
    "            d=self.D,\n",
    "            scale_normalized_constants=self.SCALE_NORMALIZED,\n",
    "        )\n",
    "        return brightness_response.unsqueeze(0)"
   ]
  },
  {
   "cell_type": "code",
   "execution_count": 2,
   "id": "dc07df27-7c6c-4d05-8d79-379bf657d6b3",
   "metadata": {},
   "outputs": [
    {
     "data": {
      "application/vnd.jupyter.widget-view+json": {
       "model_id": "92af78b4f005466496d107c8ba204fda",
       "version_major": 2,
       "version_minor": 0
      },
      "text/plain": [
       "generating training set:   0%|          | 0/8 [00:00<?, ?it/s]"
      ]
     },
     "metadata": {},
     "output_type": "display_data"
    },
    {
     "name": "stdout",
     "output_type": "stream",
     "text": [
      "training/brightnesses/CadikNight.npy already exists, skipping...\n",
      "training/brightnesses/CadikDesk.npy already exists, skipping...\n",
      "training/brightnesses/CadikWindow.npy already exists, skipping...\n",
      "training/brightnesses/LuxoDoubleChecker.npy already exists, skipping...\n",
      "training/brightnesses/HDRMark.npy already exists, skipping...\n",
      "training/brightnesses/GeneralGrant.npy already exists, skipping...\n",
      "training/brightnesses/DelicateArch.npy already exists, skipping...\n",
      "training/brightnesses/507.npy already exists, skipping...\n"
     ]
    }
   ],
   "source": [
    "from pathlib import Path\n",
    "\n",
    "import cv2\n",
    "import numpy as np\n",
    "from tqdm.auto import tqdm\n",
    "\n",
    "\n",
    "def file_to_brightness(file_path):\n",
    "    image = dino.read_image(file_path)\n",
    "    X, Y, Z = dino.rgb_to_xyz(image)\n",
    "    L, _, _ = dino.xyz_to_lxy(X, Y, Z)\n",
    "    return dino.dn_brightness_model(\n",
    "        L,\n",
    "        w=ACESModel.W,\n",
    "        a=ACESModel.A,\n",
    "        b=ACESModel.B,\n",
    "        c=ACESModel.C,\n",
    "        d=ACESModel.D,\n",
    "        scale_normalized_constants=ACESModel.SCALE_NORMALIZED,\n",
    "    )\n",
    "\n",
    "\n",
    "# Generate brightness response images for all inputs\n",
    "data_dir = Path(\"training\")\n",
    "for file in tqdm(list((data_dir / \"images\").iterdir()), desc=\"generating training set\"):\n",
    "    try:\n",
    "        export_path = str(data_dir / \"brightnesses\" / file.stem) + \".npy\"\n",
    "        if Path(export_path).exists():\n",
    "            print(f\"{export_path} already exists, skipping...\")\n",
    "            continue\n",
    "            \n",
    "        brightness = file_to_brightness(str(file))\n",
    "        print(f\"Exporting {export_path}\")\n",
    "        np.save(export_path, brightness)\n",
    "    except Exception as e:\n",
    "        print(f\"File {file} could not be processed due to {e}\")"
   ]
  },
  {
   "cell_type": "code",
   "execution_count": 3,
   "id": "2cfe97b8-aaa5-4ed9-9577-7227dd265e72",
   "metadata": {},
   "outputs": [
    {
     "name": "stdout",
     "output_type": "stream",
     "text": [
      "Device is cuda\n"
     ]
    }
   ],
   "source": [
    "class BrightnessDataset(torch.utils.data.Dataset):\n",
    "\n",
    "    def __init__(self, input_dir, target_dir, max_width=1000, transform=None, target_transform=None):\n",
    "        self.input_file_paths = sorted(f for f in Path(input_dir).iterdir() if f.is_file())\n",
    "        self.target_file_paths = sorted(f for f in Path(target_dir).iterdir() if f.is_file())\n",
    "\n",
    "        assert all(\n",
    "            self.input_file_paths[i].stem == self.target_file_paths[i].stem\n",
    "            for i in range(len(self.input_file_paths))\n",
    "        )\n",
    "\n",
    "        self.max_width = max_width\n",
    "        self.transform = transform\n",
    "        self.target_transform = target_transform\n",
    "\n",
    "    def __len__(self):\n",
    "        return len(self.input_file_paths)\n",
    "\n",
    "    def __getitem__(self, idx):\n",
    "        input_image = dino.read_image(str(self.input_file_paths[idx]))\n",
    "        input_image = dino.resize_image(\n",
    "            input_image, resize_width=self.max_width\n",
    "        )\n",
    "        if self.transform:\n",
    "            input_image = self.transform(input_image)\n",
    "            \n",
    "        brightness_response = np.load(self.target_file_paths[idx])\n",
    "        brightness_response = dino.resize_image(\n",
    "            brightness_response, resize_width=self.max_width\n",
    "        )\n",
    "        if self.target_transform:\n",
    "            brightness_response = self.target_transform(brightness_response)\n",
    "\n",
    "        return input_image, brightness_response\n",
    "\n",
    "\n",
    "device = torch.device('cuda' if torch.cuda.is_available() else 'cpu')\n",
    "print(f\"Device is {device}\")\n",
    "model = ACESModel().to(device)\n",
    "optim = torch.optim.Adam(model.parameters())\n",
    "loss_fn = nn.MSELoss()\n",
    "\n",
    "train_set = BrightnessDataset(\"training/images\", \"training/brightnesses\")\n",
    "train_loader = torch.utils.data.DataLoader(train_set, batch_size=1, shuffle=True)"
   ]
  },
  {
   "cell_type": "code",
   "execution_count": 7,
   "id": "90495787-a115-4950-8c57-ce90dadbede3",
   "metadata": {},
   "outputs": [
    {
     "name": "stdout",
     "output_type": "stream",
     "text": [
      "Loaded model from checkpoint at epoch 245.\n"
     ]
    }
   ],
   "source": [
    "CHECKPOINT_PATH = Path(\"training/checkpoints\")\n",
    "\n",
    "def checkpoint_file_path(epoch):\n",
    "    return str(CHECKPOINT_PATH / f\"aces-epoch{epoch}.pickle\")\n",
    "\n",
    "start_epoch = 245\n",
    "if start_epoch == 0:\n",
    "    checkpoint = dict(\n",
    "        state_dict={},\n",
    "        train_losses=[],\n",
    "        train_errors=[],\n",
    "    )\n",
    "else:\n",
    "    checkpoint = torch.load(checkpoint_file_path(start_epoch), weights_only=False)\n",
    "    model.load_state_dict(checkpoint[\"state_dict\"])\n",
    "    print(f\"Loaded model from checkpoint at epoch {start_epoch}.\")\n",
    "\n",
    "e = start_epoch"
   ]
  },
  {
   "cell_type": "code",
   "execution_count": 7,
   "id": "2e858033-db67-4e41-832d-dff2f1e1185c",
   "metadata": {},
   "outputs": [
    {
     "data": {
      "application/vnd.jupyter.widget-view+json": {
       "model_id": "aa4c672cfc444659a1078379dc446cc4",
       "version_major": 2,
       "version_minor": 0
      },
      "text/plain": [
       "Epoch 57:   0%|          | 0/8 [00:00<?, ?it/s]"
      ]
     },
     "metadata": {},
     "output_type": "display_data"
    },
    {
     "name": "stdout",
     "output_type": "stream",
     "text": [
      "Average training loss: 0.01516168293892406\n"
     ]
    },
    {
     "data": {
      "application/vnd.jupyter.widget-view+json": {
       "model_id": "3637135300844d3aaff21368f3bd2e91",
       "version_major": 2,
       "version_minor": 0
      },
      "text/plain": [
       "Epoch 58:   0%|          | 0/8 [00:00<?, ?it/s]"
      ]
     },
     "metadata": {},
     "output_type": "display_data"
    },
    {
     "name": "stdout",
     "output_type": "stream",
     "text": [
      "Average training loss: 0.014829656662186608\n"
     ]
    },
    {
     "data": {
      "application/vnd.jupyter.widget-view+json": {
       "model_id": "b3bff4b8f542401687b117afaf817c0b",
       "version_major": 2,
       "version_minor": 0
      },
      "text/plain": [
       "Epoch 59:   0%|          | 0/8 [00:00<?, ?it/s]"
      ]
     },
     "metadata": {},
     "output_type": "display_data"
    },
    {
     "name": "stdout",
     "output_type": "stream",
     "text": [
      "Average training loss: 0.014559462462784722\n"
     ]
    },
    {
     "data": {
      "application/vnd.jupyter.widget-view+json": {
       "model_id": "44130fc4eec944fd9333f37576e3f27f",
       "version_major": 2,
       "version_minor": 0
      },
      "text/plain": [
       "Epoch 60:   0%|          | 0/8 [00:00<?, ?it/s]"
      ]
     },
     "metadata": {},
     "output_type": "display_data"
    },
    {
     "name": "stdout",
     "output_type": "stream",
     "text": [
      "Average training loss: 0.014212819514796138\n"
     ]
    },
    {
     "data": {
      "application/vnd.jupyter.widget-view+json": {
       "model_id": "7edb7a0f49284f42bc9b5f0edb63568a",
       "version_major": 2,
       "version_minor": 0
      },
      "text/plain": [
       "Epoch 61:   0%|          | 0/8 [00:00<?, ?it/s]"
      ]
     },
     "metadata": {},
     "output_type": "display_data"
    },
    {
     "name": "stdout",
     "output_type": "stream",
     "text": [
      "Average training loss: 0.01396532979561016\n"
     ]
    },
    {
     "data": {
      "application/vnd.jupyter.widget-view+json": {
       "model_id": "16bab4deaf95433d80c4a67772a3cd46",
       "version_major": 2,
       "version_minor": 0
      },
      "text/plain": [
       "Epoch 62:   0%|          | 0/8 [00:00<?, ?it/s]"
      ]
     },
     "metadata": {},
     "output_type": "display_data"
    },
    {
     "name": "stdout",
     "output_type": "stream",
     "text": [
      "Average training loss: 0.013663996156537905\n"
     ]
    },
    {
     "data": {
      "application/vnd.jupyter.widget-view+json": {
       "model_id": "f2a1aaa8b08041e0afebb102fea83409",
       "version_major": 2,
       "version_minor": 0
      },
      "text/plain": [
       "Epoch 63:   0%|          | 0/8 [00:00<?, ?it/s]"
      ]
     },
     "metadata": {},
     "output_type": "display_data"
    },
    {
     "name": "stdout",
     "output_type": "stream",
     "text": [
      "Average training loss: 0.013419144408544526\n"
     ]
    },
    {
     "data": {
      "application/vnd.jupyter.widget-view+json": {
       "model_id": "c0374293e66b425a9ce166f21fc0c9be",
       "version_major": 2,
       "version_minor": 0
      },
      "text/plain": [
       "Epoch 64:   0%|          | 0/8 [00:00<?, ?it/s]"
      ]
     },
     "metadata": {},
     "output_type": "display_data"
    },
    {
     "name": "stdout",
     "output_type": "stream",
     "text": [
      "Average training loss: 0.013171153899747878\n"
     ]
    },
    {
     "data": {
      "application/vnd.jupyter.widget-view+json": {
       "model_id": "5a27234edeed4e39a1232e7b3fb6d7f8",
       "version_major": 2,
       "version_minor": 0
      },
      "text/plain": [
       "Epoch 65:   0%|          | 0/8 [00:00<?, ?it/s]"
      ]
     },
     "metadata": {},
     "output_type": "display_data"
    },
    {
     "name": "stdout",
     "output_type": "stream",
     "text": [
      "Average training loss: 0.012924703682074323\n"
     ]
    },
    {
     "data": {
      "application/vnd.jupyter.widget-view+json": {
       "model_id": "c016345444124236a1ce33c458fe339b",
       "version_major": 2,
       "version_minor": 0
      },
      "text/plain": [
       "Epoch 66:   0%|          | 0/8 [00:00<?, ?it/s]"
      ]
     },
     "metadata": {},
     "output_type": "display_data"
    },
    {
     "name": "stdout",
     "output_type": "stream",
     "text": [
      "Average training loss: 0.012690475792624056\n"
     ]
    },
    {
     "data": {
      "application/vnd.jupyter.widget-view+json": {
       "model_id": "087b63d67bd044c5b338583ed7fa041f",
       "version_major": 2,
       "version_minor": 0
      },
      "text/plain": [
       "Epoch 67:   0%|          | 0/8 [00:00<?, ?it/s]"
      ]
     },
     "metadata": {},
     "output_type": "display_data"
    },
    {
     "name": "stdout",
     "output_type": "stream",
     "text": [
      "Average training loss: 0.012480227800551802\n"
     ]
    },
    {
     "data": {
      "application/vnd.jupyter.widget-view+json": {
       "model_id": "067367d15337412eb3bb344b7ecdc2a0",
       "version_major": 2,
       "version_minor": 0
      },
      "text/plain": [
       "Epoch 68:   0%|          | 0/8 [00:00<?, ?it/s]"
      ]
     },
     "metadata": {},
     "output_type": "display_data"
    },
    {
     "name": "stdout",
     "output_type": "stream",
     "text": [
      "Average training loss: 0.012250673113157973\n"
     ]
    },
    {
     "data": {
      "application/vnd.jupyter.widget-view+json": {
       "model_id": "417af4c33d424b1ea38f025d50c660cc",
       "version_major": 2,
       "version_minor": 0
      },
      "text/plain": [
       "Epoch 69:   0%|          | 0/8 [00:00<?, ?it/s]"
      ]
     },
     "metadata": {},
     "output_type": "display_data"
    },
    {
     "name": "stdout",
     "output_type": "stream",
     "text": [
      "Average training loss: 0.012074288388248533\n"
     ]
    },
    {
     "data": {
      "application/vnd.jupyter.widget-view+json": {
       "model_id": "d631d24e22f943e2909f7b9cf88e0c08",
       "version_major": 2,
       "version_minor": 0
      },
      "text/plain": [
       "Epoch 70:   0%|          | 0/8 [00:00<?, ?it/s]"
      ]
     },
     "metadata": {},
     "output_type": "display_data"
    },
    {
     "name": "stdout",
     "output_type": "stream",
     "text": [
      "Average training loss: 0.011901755642611533\n"
     ]
    },
    {
     "data": {
      "application/vnd.jupyter.widget-view+json": {
       "model_id": "bec043ed65c44c93adec9510e5c34d43",
       "version_major": 2,
       "version_minor": 0
      },
      "text/plain": [
       "Epoch 71:   0%|          | 0/8 [00:00<?, ?it/s]"
      ]
     },
     "metadata": {},
     "output_type": "display_data"
    },
    {
     "name": "stdout",
     "output_type": "stream",
     "text": [
      "Average training loss: 0.01171130032162182\n"
     ]
    },
    {
     "data": {
      "application/vnd.jupyter.widget-view+json": {
       "model_id": "fb24e7aac62c42cbb390e1fbd6fc45d8",
       "version_major": 2,
       "version_minor": 0
      },
      "text/plain": [
       "Epoch 72:   0%|          | 0/8 [00:00<?, ?it/s]"
      ]
     },
     "metadata": {},
     "output_type": "display_data"
    },
    {
     "name": "stdout",
     "output_type": "stream",
     "text": [
      "Average training loss: 0.011571972194360569\n"
     ]
    },
    {
     "data": {
      "application/vnd.jupyter.widget-view+json": {
       "model_id": "28a9dc5368cd46ca92b2da4754df1cd3",
       "version_major": 2,
       "version_minor": 0
      },
      "text/plain": [
       "Epoch 73:   0%|          | 0/8 [00:00<?, ?it/s]"
      ]
     },
     "metadata": {},
     "output_type": "display_data"
    },
    {
     "name": "stdout",
     "output_type": "stream",
     "text": [
      "Average training loss: 0.011446161341154948\n"
     ]
    },
    {
     "data": {
      "application/vnd.jupyter.widget-view+json": {
       "model_id": "ea74523f171c4ee3bbfe0ac2967a1656",
       "version_major": 2,
       "version_minor": 0
      },
      "text/plain": [
       "Epoch 74:   0%|          | 0/8 [00:00<?, ?it/s]"
      ]
     },
     "metadata": {},
     "output_type": "display_data"
    },
    {
     "name": "stdout",
     "output_type": "stream",
     "text": [
      "Average training loss: 0.011305264342809096\n"
     ]
    },
    {
     "data": {
      "application/vnd.jupyter.widget-view+json": {
       "model_id": "97a0bf964aa14acd87978cd93591112c",
       "version_major": 2,
       "version_minor": 0
      },
      "text/plain": [
       "Epoch 75:   0%|          | 0/8 [00:00<?, ?it/s]"
      ]
     },
     "metadata": {},
     "output_type": "display_data"
    },
    {
     "name": "stdout",
     "output_type": "stream",
     "text": [
      "Average training loss: 0.01116379801533185\n"
     ]
    },
    {
     "data": {
      "application/vnd.jupyter.widget-view+json": {
       "model_id": "1c4f941dc2d3402cbbd17edd2b73df29",
       "version_major": 2,
       "version_minor": 0
      },
      "text/plain": [
       "Epoch 76:   0%|          | 0/8 [00:00<?, ?it/s]"
      ]
     },
     "metadata": {},
     "output_type": "display_data"
    },
    {
     "name": "stdout",
     "output_type": "stream",
     "text": [
      "Average training loss: 0.011038412223570049\n"
     ]
    },
    {
     "data": {
      "application/vnd.jupyter.widget-view+json": {
       "model_id": "d89a53ad7cd543899354409581aa05b2",
       "version_major": 2,
       "version_minor": 0
      },
      "text/plain": [
       "Epoch 77:   0%|          | 0/8 [00:00<?, ?it/s]"
      ]
     },
     "metadata": {},
     "output_type": "display_data"
    },
    {
     "name": "stdout",
     "output_type": "stream",
     "text": [
      "Average training loss: 0.010963684413582087\n"
     ]
    },
    {
     "data": {
      "application/vnd.jupyter.widget-view+json": {
       "model_id": "accc0edbc00c46d69e073840dc2139c8",
       "version_major": 2,
       "version_minor": 0
      },
      "text/plain": [
       "Epoch 78:   0%|          | 0/8 [00:00<?, ?it/s]"
      ]
     },
     "metadata": {},
     "output_type": "display_data"
    },
    {
     "name": "stdout",
     "output_type": "stream",
     "text": [
      "Average training loss: 0.010839045338798314\n"
     ]
    },
    {
     "data": {
      "application/vnd.jupyter.widget-view+json": {
       "model_id": "0da8d4b8831149fab6db205ff81c333e",
       "version_major": 2,
       "version_minor": 0
      },
      "text/plain": [
       "Epoch 79:   0%|          | 0/8 [00:00<?, ?it/s]"
      ]
     },
     "metadata": {},
     "output_type": "display_data"
    },
    {
     "name": "stdout",
     "output_type": "stream",
     "text": [
      "Average training loss: 0.010764932027086616\n"
     ]
    },
    {
     "data": {
      "application/vnd.jupyter.widget-view+json": {
       "model_id": "1294620e8de84cf5bde12a3fbd4b8608",
       "version_major": 2,
       "version_minor": 0
      },
      "text/plain": [
       "Epoch 80:   0%|          | 0/8 [00:00<?, ?it/s]"
      ]
     },
     "metadata": {},
     "output_type": "display_data"
    },
    {
     "name": "stdout",
     "output_type": "stream",
     "text": [
      "Average training loss: 0.01068734805448912\n"
     ]
    },
    {
     "data": {
      "application/vnd.jupyter.widget-view+json": {
       "model_id": "3cbf8bf42bca48ac92b77b6c82b0d137",
       "version_major": 2,
       "version_minor": 0
      },
      "text/plain": [
       "Epoch 81:   0%|          | 0/8 [00:00<?, ?it/s]"
      ]
     },
     "metadata": {},
     "output_type": "display_data"
    },
    {
     "name": "stdout",
     "output_type": "stream",
     "text": [
      "Average training loss: 0.010630196193233132\n"
     ]
    },
    {
     "data": {
      "application/vnd.jupyter.widget-view+json": {
       "model_id": "58ff51a9dc194a9889cc79bc5b2d254b",
       "version_major": 2,
       "version_minor": 0
      },
      "text/plain": [
       "Epoch 82:   0%|          | 0/8 [00:00<?, ?it/s]"
      ]
     },
     "metadata": {},
     "output_type": "display_data"
    },
    {
     "name": "stdout",
     "output_type": "stream",
     "text": [
      "Average training loss: 0.010565976466750726\n"
     ]
    },
    {
     "data": {
      "application/vnd.jupyter.widget-view+json": {
       "model_id": "30b9d525e9044bc8b8f99dea3dbd9d68",
       "version_major": 2,
       "version_minor": 0
      },
      "text/plain": [
       "Epoch 83:   0%|          | 0/8 [00:00<?, ?it/s]"
      ]
     },
     "metadata": {},
     "output_type": "display_data"
    },
    {
     "name": "stdout",
     "output_type": "stream",
     "text": [
      "Average training loss: 0.010502777120564133\n"
     ]
    },
    {
     "data": {
      "application/vnd.jupyter.widget-view+json": {
       "model_id": "b046253210004da89d30a09427a68c86",
       "version_major": 2,
       "version_minor": 0
      },
      "text/plain": [
       "Epoch 84:   0%|          | 0/8 [00:00<?, ?it/s]"
      ]
     },
     "metadata": {},
     "output_type": "display_data"
    },
    {
     "name": "stdout",
     "output_type": "stream",
     "text": [
      "Average training loss: 0.010452655842527747\n"
     ]
    },
    {
     "data": {
      "application/vnd.jupyter.widget-view+json": {
       "model_id": "827cc77720f44cdbabd88e57b68e7b2c",
       "version_major": 2,
       "version_minor": 0
      },
      "text/plain": [
       "Epoch 85:   0%|          | 0/8 [00:00<?, ?it/s]"
      ]
     },
     "metadata": {},
     "output_type": "display_data"
    },
    {
     "name": "stdout",
     "output_type": "stream",
     "text": [
      "Average training loss: 0.010394818964414299\n"
     ]
    },
    {
     "data": {
      "application/vnd.jupyter.widget-view+json": {
       "model_id": "5422829b40a947bc8cc048896e371523",
       "version_major": 2,
       "version_minor": 0
      },
      "text/plain": [
       "Epoch 86:   0%|          | 0/8 [00:00<?, ?it/s]"
      ]
     },
     "metadata": {},
     "output_type": "display_data"
    },
    {
     "name": "stdout",
     "output_type": "stream",
     "text": [
      "Average training loss: 0.010361218795878813\n"
     ]
    },
    {
     "data": {
      "application/vnd.jupyter.widget-view+json": {
       "model_id": "f6fea1aed3e040569afffd8e3cfe5b5b",
       "version_major": 2,
       "version_minor": 0
      },
      "text/plain": [
       "Epoch 87:   0%|          | 0/8 [00:00<?, ?it/s]"
      ]
     },
     "metadata": {},
     "output_type": "display_data"
    },
    {
     "name": "stdout",
     "output_type": "stream",
     "text": [
      "Average training loss: 0.01033655513310805\n"
     ]
    },
    {
     "data": {
      "application/vnd.jupyter.widget-view+json": {
       "model_id": "80fd6300138e4ccfa006f892701ef0a9",
       "version_major": 2,
       "version_minor": 0
      },
      "text/plain": [
       "Epoch 88:   0%|          | 0/8 [00:00<?, ?it/s]"
      ]
     },
     "metadata": {},
     "output_type": "display_data"
    },
    {
     "name": "stdout",
     "output_type": "stream",
     "text": [
      "Average training loss: 0.010320429340936244\n"
     ]
    },
    {
     "data": {
      "application/vnd.jupyter.widget-view+json": {
       "model_id": "8d4d01dd1fde46cea21fbd6fef1fa5ba",
       "version_major": 2,
       "version_minor": 0
      },
      "text/plain": [
       "Epoch 89:   0%|          | 0/8 [00:00<?, ?it/s]"
      ]
     },
     "metadata": {},
     "output_type": "display_data"
    },
    {
     "name": "stdout",
     "output_type": "stream",
     "text": [
      "Average training loss: 0.010263299365760759\n"
     ]
    },
    {
     "data": {
      "application/vnd.jupyter.widget-view+json": {
       "model_id": "1dc515e132704c08ba0f5f346669c1b6",
       "version_major": 2,
       "version_minor": 0
      },
      "text/plain": [
       "Epoch 90:   0%|          | 0/8 [00:00<?, ?it/s]"
      ]
     },
     "metadata": {},
     "output_type": "display_data"
    },
    {
     "name": "stdout",
     "output_type": "stream",
     "text": [
      "Average training loss: 0.010251675179461017\n"
     ]
    },
    {
     "data": {
      "application/vnd.jupyter.widget-view+json": {
       "model_id": "0b6da05bb33c47c7ad8659a594652004",
       "version_major": 2,
       "version_minor": 0
      },
      "text/plain": [
       "Epoch 91:   0%|          | 0/8 [00:00<?, ?it/s]"
      ]
     },
     "metadata": {},
     "output_type": "display_data"
    },
    {
     "name": "stdout",
     "output_type": "stream",
     "text": [
      "Average training loss: 0.010219983087154105\n"
     ]
    },
    {
     "data": {
      "application/vnd.jupyter.widget-view+json": {
       "model_id": "a598518aed8a4348a375f825971f1810",
       "version_major": 2,
       "version_minor": 0
      },
      "text/plain": [
       "Epoch 92:   0%|          | 0/8 [00:00<?, ?it/s]"
      ]
     },
     "metadata": {},
     "output_type": "display_data"
    },
    {
     "name": "stdout",
     "output_type": "stream",
     "text": [
      "Average training loss: 0.010189336549956352\n"
     ]
    },
    {
     "data": {
      "application/vnd.jupyter.widget-view+json": {
       "model_id": "6d7a3a460ae543efba5658e65eac9ff1",
       "version_major": 2,
       "version_minor": 0
      },
      "text/plain": [
       "Epoch 93:   0%|          | 0/8 [00:00<?, ?it/s]"
      ]
     },
     "metadata": {},
     "output_type": "display_data"
    },
    {
     "name": "stdout",
     "output_type": "stream",
     "text": [
      "Average training loss: 0.010173103539273143\n"
     ]
    },
    {
     "data": {
      "application/vnd.jupyter.widget-view+json": {
       "model_id": "b150e5ae58b34f12ac6094758328edcc",
       "version_major": 2,
       "version_minor": 0
      },
      "text/plain": [
       "Epoch 94:   0%|          | 0/8 [00:00<?, ?it/s]"
      ]
     },
     "metadata": {},
     "output_type": "display_data"
    },
    {
     "name": "stdout",
     "output_type": "stream",
     "text": [
      "Average training loss: 0.010185101942624897\n"
     ]
    },
    {
     "data": {
      "application/vnd.jupyter.widget-view+json": {
       "model_id": "62625448becb463b89943c26c30cac6a",
       "version_major": 2,
       "version_minor": 0
      },
      "text/plain": [
       "Epoch 95:   0%|          | 0/8 [00:00<?, ?it/s]"
      ]
     },
     "metadata": {},
     "output_type": "display_data"
    },
    {
     "name": "stdout",
     "output_type": "stream",
     "text": [
      "Average training loss: 0.01016697075101547\n"
     ]
    },
    {
     "data": {
      "application/vnd.jupyter.widget-view+json": {
       "model_id": "b09f362b4b41420da850c6af51c12fd2",
       "version_major": 2,
       "version_minor": 0
      },
      "text/plain": [
       "Epoch 96:   0%|          | 0/8 [00:00<?, ?it/s]"
      ]
     },
     "metadata": {},
     "output_type": "display_data"
    },
    {
     "name": "stdout",
     "output_type": "stream",
     "text": [
      "Average training loss: 0.010126930195838213\n"
     ]
    },
    {
     "data": {
      "application/vnd.jupyter.widget-view+json": {
       "model_id": "a05b60a4805340fb8fb1463ed81f2411",
       "version_major": 2,
       "version_minor": 0
      },
      "text/plain": [
       "Epoch 97:   0%|          | 0/8 [00:00<?, ?it/s]"
      ]
     },
     "metadata": {},
     "output_type": "display_data"
    },
    {
     "name": "stdout",
     "output_type": "stream",
     "text": [
      "Average training loss: 0.010120783554157242\n"
     ]
    },
    {
     "data": {
      "application/vnd.jupyter.widget-view+json": {
       "model_id": "f75134ed4e6d4264907e03f6405f2f0a",
       "version_major": 2,
       "version_minor": 0
      },
      "text/plain": [
       "Epoch 98:   0%|          | 0/8 [00:00<?, ?it/s]"
      ]
     },
     "metadata": {},
     "output_type": "display_data"
    },
    {
     "name": "stdout",
     "output_type": "stream",
     "text": [
      "Average training loss: 0.010105390305398032\n"
     ]
    },
    {
     "data": {
      "application/vnd.jupyter.widget-view+json": {
       "model_id": "c425b9f61c6b4cdb908c19d221355995",
       "version_major": 2,
       "version_minor": 0
      },
      "text/plain": [
       "Epoch 99:   0%|          | 0/8 [00:00<?, ?it/s]"
      ]
     },
     "metadata": {},
     "output_type": "display_data"
    },
    {
     "name": "stdout",
     "output_type": "stream",
     "text": [
      "Average training loss: 0.010093301330925897\n"
     ]
    },
    {
     "data": {
      "application/vnd.jupyter.widget-view+json": {
       "model_id": "aafa09b76b14464283bc582d87be2710",
       "version_major": 2,
       "version_minor": 0
      },
      "text/plain": [
       "Epoch 100:   0%|          | 0/8 [00:00<?, ?it/s]"
      ]
     },
     "metadata": {},
     "output_type": "display_data"
    },
    {
     "name": "stdout",
     "output_type": "stream",
     "text": [
      "Average training loss: 0.010083586821565405\n"
     ]
    },
    {
     "data": {
      "application/vnd.jupyter.widget-view+json": {
       "model_id": "514b579264ef4057a3db0ec61dca4889",
       "version_major": 2,
       "version_minor": 0
      },
      "text/plain": [
       "Epoch 101:   0%|          | 0/8 [00:00<?, ?it/s]"
      ]
     },
     "metadata": {},
     "output_type": "display_data"
    },
    {
     "name": "stdout",
     "output_type": "stream",
     "text": [
      "Average training loss: 0.010067152441479266\n"
     ]
    },
    {
     "data": {
      "application/vnd.jupyter.widget-view+json": {
       "model_id": "5cb0e58b69b745379725c25442775426",
       "version_major": 2,
       "version_minor": 0
      },
      "text/plain": [
       "Epoch 102:   0%|          | 0/8 [00:00<?, ?it/s]"
      ]
     },
     "metadata": {},
     "output_type": "display_data"
    },
    {
     "name": "stdout",
     "output_type": "stream",
     "text": [
      "Average training loss: 0.0100521111744456\n"
     ]
    },
    {
     "data": {
      "application/vnd.jupyter.widget-view+json": {
       "model_id": "caea80324b0047a88b72becc3162501d",
       "version_major": 2,
       "version_minor": 0
      },
      "text/plain": [
       "Epoch 103:   0%|          | 0/8 [00:00<?, ?it/s]"
      ]
     },
     "metadata": {},
     "output_type": "display_data"
    },
    {
     "name": "stdout",
     "output_type": "stream",
     "text": [
      "Average training loss: 0.010040162975201383\n"
     ]
    },
    {
     "data": {
      "application/vnd.jupyter.widget-view+json": {
       "model_id": "fae799b3f01043a4b9535be3090426f0",
       "version_major": 2,
       "version_minor": 0
      },
      "text/plain": [
       "Epoch 104:   0%|          | 0/8 [00:00<?, ?it/s]"
      ]
     },
     "metadata": {},
     "output_type": "display_data"
    },
    {
     "name": "stdout",
     "output_type": "stream",
     "text": [
      "Average training loss: 0.010028665332356468\n"
     ]
    },
    {
     "data": {
      "application/vnd.jupyter.widget-view+json": {
       "model_id": "289a6e47f6e74dfeb4751c25633103c0",
       "version_major": 2,
       "version_minor": 0
      },
      "text/plain": [
       "Epoch 105:   0%|          | 0/8 [00:00<?, ?it/s]"
      ]
     },
     "metadata": {},
     "output_type": "display_data"
    },
    {
     "name": "stdout",
     "output_type": "stream",
     "text": [
      "Average training loss: 0.010013722028816119\n"
     ]
    },
    {
     "data": {
      "application/vnd.jupyter.widget-view+json": {
       "model_id": "558d5924ff2048eba580cce3b16bc37b",
       "version_major": 2,
       "version_minor": 0
      },
      "text/plain": [
       "Epoch 106:   0%|          | 0/8 [00:00<?, ?it/s]"
      ]
     },
     "metadata": {},
     "output_type": "display_data"
    },
    {
     "name": "stdout",
     "output_type": "stream",
     "text": [
      "Average training loss: 0.010005991091020405\n"
     ]
    },
    {
     "data": {
      "application/vnd.jupyter.widget-view+json": {
       "model_id": "e4f54a0cb084479787bfeb924679a75a",
       "version_major": 2,
       "version_minor": 0
      },
      "text/plain": [
       "Epoch 107:   0%|          | 0/8 [00:00<?, ?it/s]"
      ]
     },
     "metadata": {},
     "output_type": "display_data"
    },
    {
     "name": "stdout",
     "output_type": "stream",
     "text": [
      "Average training loss: 0.009991894388804212\n"
     ]
    },
    {
     "data": {
      "application/vnd.jupyter.widget-view+json": {
       "model_id": "1ec5a560b1af4f8ab321a56e6ed4eebd",
       "version_major": 2,
       "version_minor": 0
      },
      "text/plain": [
       "Epoch 108:   0%|          | 0/8 [00:00<?, ?it/s]"
      ]
     },
     "metadata": {},
     "output_type": "display_data"
    },
    {
     "name": "stdout",
     "output_type": "stream",
     "text": [
      "Average training loss: 0.009981205977965146\n"
     ]
    },
    {
     "data": {
      "application/vnd.jupyter.widget-view+json": {
       "model_id": "1b74e43830134d41ba7216bac88bb1ad",
       "version_major": 2,
       "version_minor": 0
      },
      "text/plain": [
       "Epoch 109:   0%|          | 0/8 [00:00<?, ?it/s]"
      ]
     },
     "metadata": {},
     "output_type": "display_data"
    },
    {
     "name": "stdout",
     "output_type": "stream",
     "text": [
      "Average training loss: 0.009971137449610978\n"
     ]
    },
    {
     "data": {
      "application/vnd.jupyter.widget-view+json": {
       "model_id": "a00478aa918e4c238ddd7e4a314cbf83",
       "version_major": 2,
       "version_minor": 0
      },
      "text/plain": [
       "Epoch 110:   0%|          | 0/8 [00:00<?, ?it/s]"
      ]
     },
     "metadata": {},
     "output_type": "display_data"
    },
    {
     "name": "stdout",
     "output_type": "stream",
     "text": [
      "Average training loss: 0.009965804987587035\n"
     ]
    },
    {
     "data": {
      "application/vnd.jupyter.widget-view+json": {
       "model_id": "99ea0633feaa46e9b5759838b43ecbd8",
       "version_major": 2,
       "version_minor": 0
      },
      "text/plain": [
       "Epoch 111:   0%|          | 0/8 [00:00<?, ?it/s]"
      ]
     },
     "metadata": {},
     "output_type": "display_data"
    },
    {
     "name": "stdout",
     "output_type": "stream",
     "text": [
      "Average training loss: 0.00995164638152346\n"
     ]
    },
    {
     "data": {
      "application/vnd.jupyter.widget-view+json": {
       "model_id": "cd5d08c55c3c4d03aefcded3b3402d81",
       "version_major": 2,
       "version_minor": 0
      },
      "text/plain": [
       "Epoch 112:   0%|          | 0/8 [00:00<?, ?it/s]"
      ]
     },
     "metadata": {},
     "output_type": "display_data"
    },
    {
     "name": "stdout",
     "output_type": "stream",
     "text": [
      "Average training loss: 0.00994444132084027\n"
     ]
    },
    {
     "data": {
      "application/vnd.jupyter.widget-view+json": {
       "model_id": "eca09e73088d4dc886da8784654992c8",
       "version_major": 2,
       "version_minor": 0
      },
      "text/plain": [
       "Epoch 113:   0%|          | 0/8 [00:00<?, ?it/s]"
      ]
     },
     "metadata": {},
     "output_type": "display_data"
    },
    {
     "name": "stdout",
     "output_type": "stream",
     "text": [
      "Average training loss: 0.009926458180416375\n"
     ]
    },
    {
     "data": {
      "application/vnd.jupyter.widget-view+json": {
       "model_id": "d1612b63d3e14d73bf5395307e467b5e",
       "version_major": 2,
       "version_minor": 0
      },
      "text/plain": [
       "Epoch 114:   0%|          | 0/8 [00:00<?, ?it/s]"
      ]
     },
     "metadata": {},
     "output_type": "display_data"
    },
    {
     "name": "stdout",
     "output_type": "stream",
     "text": [
      "Average training loss: 0.009918533643940464\n"
     ]
    },
    {
     "data": {
      "application/vnd.jupyter.widget-view+json": {
       "model_id": "3af1efc7b6a2416daffb15d0c9935c3f",
       "version_major": 2,
       "version_minor": 0
      },
      "text/plain": [
       "Epoch 115:   0%|          | 0/8 [00:00<?, ?it/s]"
      ]
     },
     "metadata": {},
     "output_type": "display_data"
    },
    {
     "name": "stdout",
     "output_type": "stream",
     "text": [
      "Average training loss: 0.009905683691613376\n"
     ]
    },
    {
     "data": {
      "application/vnd.jupyter.widget-view+json": {
       "model_id": "9a1bcc0228324cc9b436493d3f2832a1",
       "version_major": 2,
       "version_minor": 0
      },
      "text/plain": [
       "Epoch 116:   0%|          | 0/8 [00:00<?, ?it/s]"
      ]
     },
     "metadata": {},
     "output_type": "display_data"
    },
    {
     "name": "stdout",
     "output_type": "stream",
     "text": [
      "Average training loss: 0.009898519201669842\n"
     ]
    },
    {
     "data": {
      "application/vnd.jupyter.widget-view+json": {
       "model_id": "b11f4187f35e4ff18fcdbcdd11006423",
       "version_major": 2,
       "version_minor": 0
      },
      "text/plain": [
       "Epoch 117:   0%|          | 0/8 [00:00<?, ?it/s]"
      ]
     },
     "metadata": {},
     "output_type": "display_data"
    },
    {
     "name": "stdout",
     "output_type": "stream",
     "text": [
      "Average training loss: 0.00988195592071861\n"
     ]
    },
    {
     "data": {
      "application/vnd.jupyter.widget-view+json": {
       "model_id": "788b8e4730984c7496c218ed93a6bb4b",
       "version_major": 2,
       "version_minor": 0
      },
      "text/plain": [
       "Epoch 118:   0%|          | 0/8 [00:00<?, ?it/s]"
      ]
     },
     "metadata": {},
     "output_type": "display_data"
    },
    {
     "name": "stdout",
     "output_type": "stream",
     "text": [
      "Average training loss: 0.009933685883879662\n"
     ]
    },
    {
     "data": {
      "application/vnd.jupyter.widget-view+json": {
       "model_id": "f14d51c2ecf94a5bb4d409b09dc1f003",
       "version_major": 2,
       "version_minor": 0
      },
      "text/plain": [
       "Epoch 119:   0%|          | 0/8 [00:00<?, ?it/s]"
      ]
     },
     "metadata": {},
     "output_type": "display_data"
    },
    {
     "name": "stdout",
     "output_type": "stream",
     "text": [
      "Average training loss: 0.009918891853885725\n"
     ]
    },
    {
     "data": {
      "application/vnd.jupyter.widget-view+json": {
       "model_id": "b5629588f9bb4012aa70e43a6a7cec89",
       "version_major": 2,
       "version_minor": 0
      },
      "text/plain": [
       "Epoch 120:   0%|          | 0/8 [00:00<?, ?it/s]"
      ]
     },
     "metadata": {},
     "output_type": "display_data"
    },
    {
     "name": "stdout",
     "output_type": "stream",
     "text": [
      "Average training loss: 0.009951480955351144\n"
     ]
    },
    {
     "data": {
      "application/vnd.jupyter.widget-view+json": {
       "model_id": "46a651ac6dbf4eb08668659ff38e4fa6",
       "version_major": 2,
       "version_minor": 0
      },
      "text/plain": [
       "Epoch 121:   0%|          | 0/8 [00:00<?, ?it/s]"
      ]
     },
     "metadata": {},
     "output_type": "display_data"
    },
    {
     "name": "stdout",
     "output_type": "stream",
     "text": [
      "Average training loss: 0.009949520259397104\n"
     ]
    },
    {
     "data": {
      "application/vnd.jupyter.widget-view+json": {
       "model_id": "81ad6357fa7041d48d9d1ef1459bb7dc",
       "version_major": 2,
       "version_minor": 0
      },
      "text/plain": [
       "Epoch 122:   0%|          | 0/8 [00:00<?, ?it/s]"
      ]
     },
     "metadata": {},
     "output_type": "display_data"
    },
    {
     "name": "stdout",
     "output_type": "stream",
     "text": [
      "Average training loss: 0.009920624550431967\n"
     ]
    },
    {
     "data": {
      "application/vnd.jupyter.widget-view+json": {
       "model_id": "14012372a617468f9f1c6f272c1b5d75",
       "version_major": 2,
       "version_minor": 0
      },
      "text/plain": [
       "Epoch 123:   0%|          | 0/8 [00:00<?, ?it/s]"
      ]
     },
     "metadata": {},
     "output_type": "display_data"
    },
    {
     "name": "stdout",
     "output_type": "stream",
     "text": [
      "Average training loss: 0.009893825103063136\n"
     ]
    },
    {
     "data": {
      "application/vnd.jupyter.widget-view+json": {
       "model_id": "4f553d8aae894a0b85dd053e96d84c3f",
       "version_major": 2,
       "version_minor": 0
      },
      "text/plain": [
       "Epoch 124:   0%|          | 0/8 [00:00<?, ?it/s]"
      ]
     },
     "metadata": {},
     "output_type": "display_data"
    },
    {
     "name": "stdout",
     "output_type": "stream",
     "text": [
      "Average training loss: 0.009865719330264255\n"
     ]
    },
    {
     "data": {
      "application/vnd.jupyter.widget-view+json": {
       "model_id": "2389b150917b4fe1a9dc4ff9a94abafd",
       "version_major": 2,
       "version_minor": 0
      },
      "text/plain": [
       "Epoch 125:   0%|          | 0/8 [00:00<?, ?it/s]"
      ]
     },
     "metadata": {},
     "output_type": "display_data"
    },
    {
     "name": "stdout",
     "output_type": "stream",
     "text": [
      "Average training loss: 0.009832034818828106\n"
     ]
    },
    {
     "data": {
      "application/vnd.jupyter.widget-view+json": {
       "model_id": "8a2fd7e375dd4d8ead7160450bac3620",
       "version_major": 2,
       "version_minor": 0
      },
      "text/plain": [
       "Epoch 126:   0%|          | 0/8 [00:00<?, ?it/s]"
      ]
     },
     "metadata": {},
     "output_type": "display_data"
    },
    {
     "name": "stdout",
     "output_type": "stream",
     "text": [
      "Average training loss: 0.00981860698084347\n"
     ]
    },
    {
     "data": {
      "application/vnd.jupyter.widget-view+json": {
       "model_id": "27d7b75b09be4534b59a7e416a6fbebb",
       "version_major": 2,
       "version_minor": 0
      },
      "text/plain": [
       "Epoch 127:   0%|          | 0/8 [00:00<?, ?it/s]"
      ]
     },
     "metadata": {},
     "output_type": "display_data"
    },
    {
     "name": "stdout",
     "output_type": "stream",
     "text": [
      "Average training loss: 0.009811232390347868\n"
     ]
    },
    {
     "data": {
      "application/vnd.jupyter.widget-view+json": {
       "model_id": "725ad6cdb425403d9cdeac0de2dd3bf7",
       "version_major": 2,
       "version_minor": 0
      },
      "text/plain": [
       "Epoch 128:   0%|          | 0/8 [00:00<?, ?it/s]"
      ]
     },
     "metadata": {},
     "output_type": "display_data"
    },
    {
     "name": "stdout",
     "output_type": "stream",
     "text": [
      "Average training loss: 0.009802691143704578\n"
     ]
    },
    {
     "data": {
      "application/vnd.jupyter.widget-view+json": {
       "model_id": "922e4a7f371347239131ea45e25fb949",
       "version_major": 2,
       "version_minor": 0
      },
      "text/plain": [
       "Epoch 129:   0%|          | 0/8 [00:00<?, ?it/s]"
      ]
     },
     "metadata": {},
     "output_type": "display_data"
    },
    {
     "name": "stdout",
     "output_type": "stream",
     "text": [
      "Average training loss: 0.009789216273929924\n"
     ]
    },
    {
     "data": {
      "application/vnd.jupyter.widget-view+json": {
       "model_id": "c566ea7a38fe4175bccea23cdc58e183",
       "version_major": 2,
       "version_minor": 0
      },
      "text/plain": [
       "Epoch 130:   0%|          | 0/8 [00:00<?, ?it/s]"
      ]
     },
     "metadata": {},
     "output_type": "display_data"
    },
    {
     "name": "stdout",
     "output_type": "stream",
     "text": [
      "Average training loss: 0.009786952112335712\n"
     ]
    },
    {
     "data": {
      "application/vnd.jupyter.widget-view+json": {
       "model_id": "d4dd64643e3e4e29a0e3f2cd01eb4b4c",
       "version_major": 2,
       "version_minor": 0
      },
      "text/plain": [
       "Epoch 131:   0%|          | 0/8 [00:00<?, ?it/s]"
      ]
     },
     "metadata": {},
     "output_type": "display_data"
    },
    {
     "name": "stdout",
     "output_type": "stream",
     "text": [
      "Average training loss: 0.009790687006898224\n"
     ]
    },
    {
     "data": {
      "application/vnd.jupyter.widget-view+json": {
       "model_id": "18779b9fdd274a148296cc08926fd473",
       "version_major": 2,
       "version_minor": 0
      },
      "text/plain": [
       "Epoch 132:   0%|          | 0/8 [00:00<?, ?it/s]"
      ]
     },
     "metadata": {},
     "output_type": "display_data"
    },
    {
     "name": "stdout",
     "output_type": "stream",
     "text": [
      "Average training loss: 0.009775166196050122\n"
     ]
    },
    {
     "data": {
      "application/vnd.jupyter.widget-view+json": {
       "model_id": "67eeb753368f4a1d98f9ab7afe73ad8d",
       "version_major": 2,
       "version_minor": 0
      },
      "text/plain": [
       "Epoch 133:   0%|          | 0/8 [00:00<?, ?it/s]"
      ]
     },
     "metadata": {},
     "output_type": "display_data"
    },
    {
     "name": "stdout",
     "output_type": "stream",
     "text": [
      "Average training loss: 0.009762532892636955\n"
     ]
    },
    {
     "data": {
      "application/vnd.jupyter.widget-view+json": {
       "model_id": "d2a435656eae4b53983dfdfcd150ec1b",
       "version_major": 2,
       "version_minor": 0
      },
      "text/plain": [
       "Epoch 134:   0%|          | 0/8 [00:00<?, ?it/s]"
      ]
     },
     "metadata": {},
     "output_type": "display_data"
    },
    {
     "name": "stdout",
     "output_type": "stream",
     "text": [
      "Average training loss: 0.009755184961250052\n"
     ]
    },
    {
     "data": {
      "application/vnd.jupyter.widget-view+json": {
       "model_id": "f546a29d1a1443279cf293aa9e9d8f18",
       "version_major": 2,
       "version_minor": 0
      },
      "text/plain": [
       "Epoch 135:   0%|          | 0/8 [00:00<?, ?it/s]"
      ]
     },
     "metadata": {},
     "output_type": "display_data"
    },
    {
     "name": "stdout",
     "output_type": "stream",
     "text": [
      "Average training loss: 0.009748240699991584\n"
     ]
    },
    {
     "data": {
      "application/vnd.jupyter.widget-view+json": {
       "model_id": "7845888d45144ae6aa897bccd586290a",
       "version_major": 2,
       "version_minor": 0
      },
      "text/plain": [
       "Epoch 136:   0%|          | 0/8 [00:00<?, ?it/s]"
      ]
     },
     "metadata": {},
     "output_type": "display_data"
    },
    {
     "name": "stdout",
     "output_type": "stream",
     "text": [
      "Average training loss: 0.009743372473167256\n"
     ]
    },
    {
     "data": {
      "application/vnd.jupyter.widget-view+json": {
       "model_id": "d249d6c8ba244ac8aac2079c72e0c02d",
       "version_major": 2,
       "version_minor": 0
      },
      "text/plain": [
       "Epoch 137:   0%|          | 0/8 [00:00<?, ?it/s]"
      ]
     },
     "metadata": {},
     "output_type": "display_data"
    },
    {
     "name": "stdout",
     "output_type": "stream",
     "text": [
      "Average training loss: 0.009745892195496708\n"
     ]
    },
    {
     "data": {
      "application/vnd.jupyter.widget-view+json": {
       "model_id": "a705163a03d942eea8ece3bdab8cf077",
       "version_major": 2,
       "version_minor": 0
      },
      "text/plain": [
       "Epoch 138:   0%|          | 0/8 [00:00<?, ?it/s]"
      ]
     },
     "metadata": {},
     "output_type": "display_data"
    },
    {
     "name": "stdout",
     "output_type": "stream",
     "text": [
      "Average training loss: 0.00973144473391585\n"
     ]
    },
    {
     "data": {
      "application/vnd.jupyter.widget-view+json": {
       "model_id": "e62e0d82fc444b69bc6168f205db4634",
       "version_major": 2,
       "version_minor": 0
      },
      "text/plain": [
       "Epoch 139:   0%|          | 0/8 [00:00<?, ?it/s]"
      ]
     },
     "metadata": {},
     "output_type": "display_data"
    },
    {
     "name": "stdout",
     "output_type": "stream",
     "text": [
      "Average training loss: 0.009721641341457143\n"
     ]
    },
    {
     "data": {
      "application/vnd.jupyter.widget-view+json": {
       "model_id": "acb5b8beda334a39ae771a9e2764c949",
       "version_major": 2,
       "version_minor": 0
      },
      "text/plain": [
       "Epoch 140:   0%|          | 0/8 [00:00<?, ?it/s]"
      ]
     },
     "metadata": {},
     "output_type": "display_data"
    },
    {
     "name": "stdout",
     "output_type": "stream",
     "text": [
      "Average training loss: 0.009717531385831535\n"
     ]
    },
    {
     "data": {
      "application/vnd.jupyter.widget-view+json": {
       "model_id": "2fabc5b8afa64b00b4c982578bef656f",
       "version_major": 2,
       "version_minor": 0
      },
      "text/plain": [
       "Epoch 141:   0%|          | 0/8 [00:00<?, ?it/s]"
      ]
     },
     "metadata": {},
     "output_type": "display_data"
    },
    {
     "name": "stdout",
     "output_type": "stream",
     "text": [
      "Average training loss: 0.009705129341455176\n"
     ]
    },
    {
     "data": {
      "application/vnd.jupyter.widget-view+json": {
       "model_id": "7e552b9defa74aaea6be857838f4d0f6",
       "version_major": 2,
       "version_minor": 0
      },
      "text/plain": [
       "Epoch 142:   0%|          | 0/8 [00:00<?, ?it/s]"
      ]
     },
     "metadata": {},
     "output_type": "display_data"
    },
    {
     "name": "stdout",
     "output_type": "stream",
     "text": [
      "Average training loss: 0.00970254439744167\n"
     ]
    },
    {
     "data": {
      "application/vnd.jupyter.widget-view+json": {
       "model_id": "e71e9522e17e428bb7d35846988b6320",
       "version_major": 2,
       "version_minor": 0
      },
      "text/plain": [
       "Epoch 143:   0%|          | 0/8 [00:00<?, ?it/s]"
      ]
     },
     "metadata": {},
     "output_type": "display_data"
    },
    {
     "name": "stdout",
     "output_type": "stream",
     "text": [
      "Average training loss: 0.009688811813248321\n"
     ]
    },
    {
     "data": {
      "application/vnd.jupyter.widget-view+json": {
       "model_id": "31794cc25afb487d80f0fee89fff0d98",
       "version_major": 2,
       "version_minor": 0
      },
      "text/plain": [
       "Epoch 144:   0%|          | 0/8 [00:00<?, ?it/s]"
      ]
     },
     "metadata": {},
     "output_type": "display_data"
    },
    {
     "name": "stdout",
     "output_type": "stream",
     "text": [
      "Average training loss: 0.00969458240433596\n"
     ]
    },
    {
     "data": {
      "application/vnd.jupyter.widget-view+json": {
       "model_id": "d47bcf067cf44c2db62d4db3338324b7",
       "version_major": 2,
       "version_minor": 0
      },
      "text/plain": [
       "Epoch 145:   0%|          | 0/8 [00:00<?, ?it/s]"
      ]
     },
     "metadata": {},
     "output_type": "display_data"
    },
    {
     "name": "stdout",
     "output_type": "stream",
     "text": [
      "Average training loss: 0.009676513582235202\n"
     ]
    },
    {
     "data": {
      "application/vnd.jupyter.widget-view+json": {
       "model_id": "eaab1d25b4df4c9fb4b32698313f27dc",
       "version_major": 2,
       "version_minor": 0
      },
      "text/plain": [
       "Epoch 146:   0%|          | 0/8 [00:00<?, ?it/s]"
      ]
     },
     "metadata": {},
     "output_type": "display_data"
    },
    {
     "name": "stdout",
     "output_type": "stream",
     "text": [
      "Average training loss: 0.00967316993046552\n"
     ]
    },
    {
     "data": {
      "application/vnd.jupyter.widget-view+json": {
       "model_id": "78c73c74de604a039a9c2e30131fd23f",
       "version_major": 2,
       "version_minor": 0
      },
      "text/plain": [
       "Epoch 147:   0%|          | 0/8 [00:00<?, ?it/s]"
      ]
     },
     "metadata": {},
     "output_type": "display_data"
    },
    {
     "name": "stdout",
     "output_type": "stream",
     "text": [
      "Average training loss: 0.009665935358498245\n"
     ]
    },
    {
     "data": {
      "application/vnd.jupyter.widget-view+json": {
       "model_id": "db72826179724be6bf5119b71d2ca6db",
       "version_major": 2,
       "version_minor": 0
      },
      "text/plain": [
       "Epoch 148:   0%|          | 0/8 [00:00<?, ?it/s]"
      ]
     },
     "metadata": {},
     "output_type": "display_data"
    },
    {
     "name": "stdout",
     "output_type": "stream",
     "text": [
      "Average training loss: 0.009715973632410169\n"
     ]
    },
    {
     "data": {
      "application/vnd.jupyter.widget-view+json": {
       "model_id": "8cfd932d264b43a99498458ace192271",
       "version_major": 2,
       "version_minor": 0
      },
      "text/plain": [
       "Epoch 149:   0%|          | 0/8 [00:00<?, ?it/s]"
      ]
     },
     "metadata": {},
     "output_type": "display_data"
    },
    {
     "name": "stdout",
     "output_type": "stream",
     "text": [
      "Average training loss: 0.009725469397380948\n"
     ]
    },
    {
     "data": {
      "application/vnd.jupyter.widget-view+json": {
       "model_id": "c7074c9e533a4b8f9c948a51deb6a97f",
       "version_major": 2,
       "version_minor": 0
      },
      "text/plain": [
       "Epoch 150:   0%|          | 0/8 [00:00<?, ?it/s]"
      ]
     },
     "metadata": {},
     "output_type": "display_data"
    },
    {
     "name": "stdout",
     "output_type": "stream",
     "text": [
      "Average training loss: 0.009801728068850935\n"
     ]
    },
    {
     "data": {
      "application/vnd.jupyter.widget-view+json": {
       "model_id": "ddb308a6084a458790042725717af141",
       "version_major": 2,
       "version_minor": 0
      },
      "text/plain": [
       "Epoch 151:   0%|          | 0/8 [00:00<?, ?it/s]"
      ]
     },
     "metadata": {},
     "output_type": "display_data"
    },
    {
     "name": "stdout",
     "output_type": "stream",
     "text": [
      "Average training loss: 0.009815266646910459\n"
     ]
    },
    {
     "data": {
      "application/vnd.jupyter.widget-view+json": {
       "model_id": "0d4d0ab4483746c18ac7ca633c3001f2",
       "version_major": 2,
       "version_minor": 0
      },
      "text/plain": [
       "Epoch 152:   0%|          | 0/8 [00:00<?, ?it/s]"
      ]
     },
     "metadata": {},
     "output_type": "display_data"
    },
    {
     "name": "stdout",
     "output_type": "stream",
     "text": [
      "Average training loss: 0.009809033828787506\n"
     ]
    },
    {
     "data": {
      "application/vnd.jupyter.widget-view+json": {
       "model_id": "6dd6b7423dcf4ddea34418225683d8c4",
       "version_major": 2,
       "version_minor": 0
      },
      "text/plain": [
       "Epoch 153:   0%|          | 0/8 [00:00<?, ?it/s]"
      ]
     },
     "metadata": {},
     "output_type": "display_data"
    },
    {
     "name": "stdout",
     "output_type": "stream",
     "text": [
      "Average training loss: 0.00979404998361133\n"
     ]
    },
    {
     "data": {
      "application/vnd.jupyter.widget-view+json": {
       "model_id": "66882a7d3e3e4cd9903233af013b1a86",
       "version_major": 2,
       "version_minor": 0
      },
      "text/plain": [
       "Epoch 154:   0%|          | 0/8 [00:00<?, ?it/s]"
      ]
     },
     "metadata": {},
     "output_type": "display_data"
    },
    {
     "name": "stdout",
     "output_type": "stream",
     "text": [
      "Average training loss: 0.009767747716978192\n"
     ]
    },
    {
     "data": {
      "application/vnd.jupyter.widget-view+json": {
       "model_id": "adebb5982da144a7964765fd65900d02",
       "version_major": 2,
       "version_minor": 0
      },
      "text/plain": [
       "Epoch 155:   0%|          | 0/8 [00:00<?, ?it/s]"
      ]
     },
     "metadata": {},
     "output_type": "display_data"
    },
    {
     "name": "stdout",
     "output_type": "stream",
     "text": [
      "Average training loss: 0.009738936787471175\n"
     ]
    },
    {
     "data": {
      "application/vnd.jupyter.widget-view+json": {
       "model_id": "4ab948711f374841a0b9d933987f64ad",
       "version_major": 2,
       "version_minor": 0
      },
      "text/plain": [
       "Epoch 156:   0%|          | 0/8 [00:00<?, ?it/s]"
      ]
     },
     "metadata": {},
     "output_type": "display_data"
    },
    {
     "name": "stdout",
     "output_type": "stream",
     "text": [
      "Average training loss: 0.009721530077513307\n"
     ]
    },
    {
     "data": {
      "application/vnd.jupyter.widget-view+json": {
       "model_id": "b988b4a11cd9448da8f6739a01ae9e44",
       "version_major": 2,
       "version_minor": 0
      },
      "text/plain": [
       "Epoch 157:   0%|          | 0/8 [00:00<?, ?it/s]"
      ]
     },
     "metadata": {},
     "output_type": "display_data"
    },
    {
     "name": "stdout",
     "output_type": "stream",
     "text": [
      "Average training loss: 0.009694546810351312\n"
     ]
    },
    {
     "data": {
      "application/vnd.jupyter.widget-view+json": {
       "model_id": "cb8a5a8feee44865be771ab05bf13d8b",
       "version_major": 2,
       "version_minor": 0
      },
      "text/plain": [
       "Epoch 158:   0%|          | 0/8 [00:00<?, ?it/s]"
      ]
     },
     "metadata": {},
     "output_type": "display_data"
    },
    {
     "name": "stdout",
     "output_type": "stream",
     "text": [
      "Average training loss: 0.009671959734987468\n"
     ]
    },
    {
     "data": {
      "application/vnd.jupyter.widget-view+json": {
       "model_id": "cb7729d30ebf413e86957a01377a8937",
       "version_major": 2,
       "version_minor": 0
      },
      "text/plain": [
       "Epoch 159:   0%|          | 0/8 [00:00<?, ?it/s]"
      ]
     },
     "metadata": {},
     "output_type": "display_data"
    },
    {
     "name": "stdout",
     "output_type": "stream",
     "text": [
      "Average training loss: 0.009665923775173724\n"
     ]
    },
    {
     "data": {
      "application/vnd.jupyter.widget-view+json": {
       "model_id": "926e8289f9374562b3d34191ef2a4658",
       "version_major": 2,
       "version_minor": 0
      },
      "text/plain": [
       "Epoch 160:   0%|          | 0/8 [00:00<?, ?it/s]"
      ]
     },
     "metadata": {},
     "output_type": "display_data"
    },
    {
     "name": "stdout",
     "output_type": "stream",
     "text": [
      "Average training loss: 0.009633463545469567\n"
     ]
    },
    {
     "data": {
      "application/vnd.jupyter.widget-view+json": {
       "model_id": "8160bd32fe944a6caf91a8493df9429c",
       "version_major": 2,
       "version_minor": 0
      },
      "text/plain": [
       "Epoch 161:   0%|          | 0/8 [00:00<?, ?it/s]"
      ]
     },
     "metadata": {},
     "output_type": "display_data"
    },
    {
     "name": "stdout",
     "output_type": "stream",
     "text": [
      "Average training loss: 0.009614535374566913\n"
     ]
    },
    {
     "data": {
      "application/vnd.jupyter.widget-view+json": {
       "model_id": "d4007577cf044b618cca3bf94d795650",
       "version_major": 2,
       "version_minor": 0
      },
      "text/plain": [
       "Epoch 162:   0%|          | 0/8 [00:00<?, ?it/s]"
      ]
     },
     "metadata": {},
     "output_type": "display_data"
    },
    {
     "name": "stdout",
     "output_type": "stream",
     "text": [
      "Average training loss: 0.009591927897417918\n"
     ]
    },
    {
     "data": {
      "application/vnd.jupyter.widget-view+json": {
       "model_id": "4260c39afc5b442ab6063633aeff2713",
       "version_major": 2,
       "version_minor": 0
      },
      "text/plain": [
       "Epoch 163:   0%|          | 0/8 [00:00<?, ?it/s]"
      ]
     },
     "metadata": {},
     "output_type": "display_data"
    },
    {
     "name": "stdout",
     "output_type": "stream",
     "text": [
      "Average training loss: 0.009597303200280294\n"
     ]
    },
    {
     "data": {
      "application/vnd.jupyter.widget-view+json": {
       "model_id": "4d7ae9c816be46549c3922212d8673e8",
       "version_major": 2,
       "version_minor": 0
      },
      "text/plain": [
       "Epoch 164:   0%|          | 0/8 [00:00<?, ?it/s]"
      ]
     },
     "metadata": {},
     "output_type": "display_data"
    },
    {
     "name": "stdout",
     "output_type": "stream",
     "text": [
      "Average training loss: 0.00958659261232242\n"
     ]
    },
    {
     "data": {
      "application/vnd.jupyter.widget-view+json": {
       "model_id": "c9108b3c83ce41d7a32eb851e76331a0",
       "version_major": 2,
       "version_minor": 0
      },
      "text/plain": [
       "Epoch 165:   0%|          | 0/8 [00:00<?, ?it/s]"
      ]
     },
     "metadata": {},
     "output_type": "display_data"
    },
    {
     "name": "stdout",
     "output_type": "stream",
     "text": [
      "Average training loss: 0.009580407408066094\n"
     ]
    },
    {
     "data": {
      "application/vnd.jupyter.widget-view+json": {
       "model_id": "21306ca302a34887b857a437fbb602e4",
       "version_major": 2,
       "version_minor": 0
      },
      "text/plain": [
       "Epoch 166:   0%|          | 0/8 [00:00<?, ?it/s]"
      ]
     },
     "metadata": {},
     "output_type": "display_data"
    },
    {
     "name": "stdout",
     "output_type": "stream",
     "text": [
      "Average training loss: 0.009584246872691438\n"
     ]
    },
    {
     "data": {
      "application/vnd.jupyter.widget-view+json": {
       "model_id": "e2f93ad618754f13a8434f3b708e16a2",
       "version_major": 2,
       "version_minor": 0
      },
      "text/plain": [
       "Epoch 167:   0%|          | 0/8 [00:00<?, ?it/s]"
      ]
     },
     "metadata": {},
     "output_type": "display_data"
    },
    {
     "name": "stdout",
     "output_type": "stream",
     "text": [
      "Average training loss: 0.009566410270053893\n"
     ]
    },
    {
     "data": {
      "application/vnd.jupyter.widget-view+json": {
       "model_id": "0c05104ed63f42938238b8c718b1fa4a",
       "version_major": 2,
       "version_minor": 0
      },
      "text/plain": [
       "Epoch 168:   0%|          | 0/8 [00:00<?, ?it/s]"
      ]
     },
     "metadata": {},
     "output_type": "display_data"
    },
    {
     "name": "stdout",
     "output_type": "stream",
     "text": [
      "Average training loss: 0.009568206791300327\n"
     ]
    },
    {
     "data": {
      "application/vnd.jupyter.widget-view+json": {
       "model_id": "c545ea697952429985889dbd947b22e4",
       "version_major": 2,
       "version_minor": 0
      },
      "text/plain": [
       "Epoch 169:   0%|          | 0/8 [00:00<?, ?it/s]"
      ]
     },
     "metadata": {},
     "output_type": "display_data"
    },
    {
     "name": "stdout",
     "output_type": "stream",
     "text": [
      "Average training loss: 0.009557716373819858\n"
     ]
    },
    {
     "data": {
      "application/vnd.jupyter.widget-view+json": {
       "model_id": "cfe9ab9fa2e7464dba8edd0444d93f90",
       "version_major": 2,
       "version_minor": 0
      },
      "text/plain": [
       "Epoch 170:   0%|          | 0/8 [00:00<?, ?it/s]"
      ]
     },
     "metadata": {},
     "output_type": "display_data"
    },
    {
     "name": "stdout",
     "output_type": "stream",
     "text": [
      "Average training loss: 0.00956378661794588\n"
     ]
    },
    {
     "data": {
      "application/vnd.jupyter.widget-view+json": {
       "model_id": "c4749cb371004c53bef921ad5a950b95",
       "version_major": 2,
       "version_minor": 0
      },
      "text/plain": [
       "Epoch 171:   0%|          | 0/8 [00:00<?, ?it/s]"
      ]
     },
     "metadata": {},
     "output_type": "display_data"
    },
    {
     "name": "stdout",
     "output_type": "stream",
     "text": [
      "Average training loss: 0.009552971343509853\n"
     ]
    },
    {
     "data": {
      "application/vnd.jupyter.widget-view+json": {
       "model_id": "59d74cbb0a154788b50a74920055a4d0",
       "version_major": 2,
       "version_minor": 0
      },
      "text/plain": [
       "Epoch 172:   0%|          | 0/8 [00:00<?, ?it/s]"
      ]
     },
     "metadata": {},
     "output_type": "display_data"
    },
    {
     "name": "stdout",
     "output_type": "stream",
     "text": [
      "Average training loss: 0.009544289816403762\n"
     ]
    },
    {
     "data": {
      "application/vnd.jupyter.widget-view+json": {
       "model_id": "7026171755fd463db42e00333eba2ede",
       "version_major": 2,
       "version_minor": 0
      },
      "text/plain": [
       "Epoch 173:   0%|          | 0/8 [00:00<?, ?it/s]"
      ]
     },
     "metadata": {},
     "output_type": "display_data"
    },
    {
     "name": "stdout",
     "output_type": "stream",
     "text": [
      "Average training loss: 0.009584806655766442\n"
     ]
    },
    {
     "data": {
      "application/vnd.jupyter.widget-view+json": {
       "model_id": "5280477af7e844f59dd12787a31a6e28",
       "version_major": 2,
       "version_minor": 0
      },
      "text/plain": [
       "Epoch 174:   0%|          | 0/8 [00:00<?, ?it/s]"
      ]
     },
     "metadata": {},
     "output_type": "display_data"
    },
    {
     "name": "stdout",
     "output_type": "stream",
     "text": [
      "Average training loss: 0.009605656610801816\n"
     ]
    },
    {
     "data": {
      "application/vnd.jupyter.widget-view+json": {
       "model_id": "3b06d7a737df41e69e4fd7866eb7601b",
       "version_major": 2,
       "version_minor": 0
      },
      "text/plain": [
       "Epoch 175:   0%|          | 0/8 [00:00<?, ?it/s]"
      ]
     },
     "metadata": {},
     "output_type": "display_data"
    },
    {
     "name": "stdout",
     "output_type": "stream",
     "text": [
      "Average training loss: 0.00966247107135132\n"
     ]
    },
    {
     "data": {
      "application/vnd.jupyter.widget-view+json": {
       "model_id": "f3c438fab94d49dab9dd0224269bcf78",
       "version_major": 2,
       "version_minor": 0
      },
      "text/plain": [
       "Epoch 176:   0%|          | 0/8 [00:00<?, ?it/s]"
      ]
     },
     "metadata": {},
     "output_type": "display_data"
    },
    {
     "name": "stdout",
     "output_type": "stream",
     "text": [
      "Average training loss: 0.009672648215200752\n"
     ]
    },
    {
     "data": {
      "application/vnd.jupyter.widget-view+json": {
       "model_id": "617f5a749da344a793702285791ee902",
       "version_major": 2,
       "version_minor": 0
      },
      "text/plain": [
       "Epoch 177:   0%|          | 0/8 [00:00<?, ?it/s]"
      ]
     },
     "metadata": {},
     "output_type": "display_data"
    },
    {
     "name": "stdout",
     "output_type": "stream",
     "text": [
      "Average training loss: 0.009665025252616033\n"
     ]
    },
    {
     "data": {
      "application/vnd.jupyter.widget-view+json": {
       "model_id": "909ad7efa8fa47faa48b37129fbb9c97",
       "version_major": 2,
       "version_minor": 0
      },
      "text/plain": [
       "Epoch 178:   0%|          | 0/8 [00:00<?, ?it/s]"
      ]
     },
     "metadata": {},
     "output_type": "display_data"
    },
    {
     "name": "stdout",
     "output_type": "stream",
     "text": [
      "Average training loss: 0.0096510203438811\n"
     ]
    },
    {
     "data": {
      "application/vnd.jupyter.widget-view+json": {
       "model_id": "4da3519fb6ab4805832f25182cadb799",
       "version_major": 2,
       "version_minor": 0
      },
      "text/plain": [
       "Epoch 179:   0%|          | 0/8 [00:00<?, ?it/s]"
      ]
     },
     "metadata": {},
     "output_type": "display_data"
    },
    {
     "name": "stdout",
     "output_type": "stream",
     "text": [
      "Average training loss: 0.009633014997234568\n"
     ]
    },
    {
     "data": {
      "application/vnd.jupyter.widget-view+json": {
       "model_id": "5e39b27d3726444f91691ecfd6007ec1",
       "version_major": 2,
       "version_minor": 0
      },
      "text/plain": [
       "Epoch 180:   0%|          | 0/8 [00:00<?, ?it/s]"
      ]
     },
     "metadata": {},
     "output_type": "display_data"
    },
    {
     "name": "stdout",
     "output_type": "stream",
     "text": [
      "Average training loss: 0.009608864755136892\n"
     ]
    },
    {
     "data": {
      "application/vnd.jupyter.widget-view+json": {
       "model_id": "87c1ecac174b40ad83c2a8c48f9376e0",
       "version_major": 2,
       "version_minor": 0
      },
      "text/plain": [
       "Epoch 181:   0%|          | 0/8 [00:00<?, ?it/s]"
      ]
     },
     "metadata": {},
     "output_type": "display_data"
    },
    {
     "name": "stdout",
     "output_type": "stream",
     "text": [
      "Average training loss: 0.009590592671884224\n"
     ]
    },
    {
     "data": {
      "application/vnd.jupyter.widget-view+json": {
       "model_id": "0e26f240b2dc4197b52520a8b7924c22",
       "version_major": 2,
       "version_minor": 0
      },
      "text/plain": [
       "Epoch 182:   0%|          | 0/8 [00:00<?, ?it/s]"
      ]
     },
     "metadata": {},
     "output_type": "display_data"
    },
    {
     "name": "stdout",
     "output_type": "stream",
     "text": [
      "Average training loss: 0.009575348376529291\n"
     ]
    },
    {
     "data": {
      "application/vnd.jupyter.widget-view+json": {
       "model_id": "12e00bb7e2a04231baa2131dba3af917",
       "version_major": 2,
       "version_minor": 0
      },
      "text/plain": [
       "Epoch 183:   0%|          | 0/8 [00:00<?, ?it/s]"
      ]
     },
     "metadata": {},
     "output_type": "display_data"
    },
    {
     "name": "stdout",
     "output_type": "stream",
     "text": [
      "Average training loss: 0.009555270808050409\n"
     ]
    },
    {
     "data": {
      "application/vnd.jupyter.widget-view+json": {
       "model_id": "952f26421a66428cb6f84a8430a12f25",
       "version_major": 2,
       "version_minor": 0
      },
      "text/plain": [
       "Epoch 184:   0%|          | 0/8 [00:00<?, ?it/s]"
      ]
     },
     "metadata": {},
     "output_type": "display_data"
    },
    {
     "name": "stdout",
     "output_type": "stream",
     "text": [
      "Average training loss: 0.009532782336464152\n"
     ]
    },
    {
     "data": {
      "application/vnd.jupyter.widget-view+json": {
       "model_id": "031b40accc564cbd8a74e413fdd930a1",
       "version_major": 2,
       "version_minor": 0
      },
      "text/plain": [
       "Epoch 185:   0%|          | 0/8 [00:00<?, ?it/s]"
      ]
     },
     "metadata": {},
     "output_type": "display_data"
    },
    {
     "name": "stdout",
     "output_type": "stream",
     "text": [
      "Average training loss: 0.009516908699879423\n"
     ]
    },
    {
     "data": {
      "application/vnd.jupyter.widget-view+json": {
       "model_id": "fa098688a3384cacb27ad042810d336a",
       "version_major": 2,
       "version_minor": 0
      },
      "text/plain": [
       "Epoch 186:   0%|          | 0/8 [00:00<?, ?it/s]"
      ]
     },
     "metadata": {},
     "output_type": "display_data"
    },
    {
     "name": "stdout",
     "output_type": "stream",
     "text": [
      "Average training loss: 0.009499897103523836\n"
     ]
    },
    {
     "data": {
      "application/vnd.jupyter.widget-view+json": {
       "model_id": "e50b61ac4d6b4949b420fce3f9934519",
       "version_major": 2,
       "version_minor": 0
      },
      "text/plain": [
       "Epoch 187:   0%|          | 0/8 [00:00<?, ?it/s]"
      ]
     },
     "metadata": {},
     "output_type": "display_data"
    },
    {
     "name": "stdout",
     "output_type": "stream",
     "text": [
      "Average training loss: 0.009490155265666544\n"
     ]
    },
    {
     "data": {
      "application/vnd.jupyter.widget-view+json": {
       "model_id": "6b4a42e004f241beaa6f648da74ea3db",
       "version_major": 2,
       "version_minor": 0
      },
      "text/plain": [
       "Epoch 188:   0%|          | 0/8 [00:00<?, ?it/s]"
      ]
     },
     "metadata": {},
     "output_type": "display_data"
    },
    {
     "name": "stdout",
     "output_type": "stream",
     "text": [
      "Average training loss: 0.009499952604528517\n"
     ]
    },
    {
     "data": {
      "application/vnd.jupyter.widget-view+json": {
       "model_id": "a0416dd11cbb4d00995cd8854d020e2c",
       "version_major": 2,
       "version_minor": 0
      },
      "text/plain": [
       "Epoch 189:   0%|          | 0/8 [00:00<?, ?it/s]"
      ]
     },
     "metadata": {},
     "output_type": "display_data"
    },
    {
     "name": "stdout",
     "output_type": "stream",
     "text": [
      "Average training loss: 0.009497115213889629\n"
     ]
    },
    {
     "data": {
      "application/vnd.jupyter.widget-view+json": {
       "model_id": "72eae5a2461e43d4a8c097ddd3e6a0ba",
       "version_major": 2,
       "version_minor": 0
      },
      "text/plain": [
       "Epoch 190:   0%|          | 0/8 [00:00<?, ?it/s]"
      ]
     },
     "metadata": {},
     "output_type": "display_data"
    },
    {
     "name": "stdout",
     "output_type": "stream",
     "text": [
      "Average training loss: 0.009495747392065823\n"
     ]
    },
    {
     "data": {
      "application/vnd.jupyter.widget-view+json": {
       "model_id": "e24a21beda6f481eb9e0ba9d606be089",
       "version_major": 2,
       "version_minor": 0
      },
      "text/plain": [
       "Epoch 191:   0%|          | 0/8 [00:00<?, ?it/s]"
      ]
     },
     "metadata": {},
     "output_type": "display_data"
    },
    {
     "name": "stdout",
     "output_type": "stream",
     "text": [
      "Average training loss: 0.009489008720265701\n"
     ]
    },
    {
     "data": {
      "application/vnd.jupyter.widget-view+json": {
       "model_id": "6828d85568c74a6cad425270b33209ff",
       "version_major": 2,
       "version_minor": 0
      },
      "text/plain": [
       "Epoch 192:   0%|          | 0/8 [00:00<?, ?it/s]"
      ]
     },
     "metadata": {},
     "output_type": "display_data"
    },
    {
     "name": "stdout",
     "output_type": "stream",
     "text": [
      "Average training loss: 0.009472324716625735\n"
     ]
    },
    {
     "data": {
      "application/vnd.jupyter.widget-view+json": {
       "model_id": "305aeb133d6541d2862aac712a2a6150",
       "version_major": 2,
       "version_minor": 0
      },
      "text/plain": [
       "Epoch 193:   0%|          | 0/8 [00:00<?, ?it/s]"
      ]
     },
     "metadata": {},
     "output_type": "display_data"
    },
    {
     "name": "stdout",
     "output_type": "stream",
     "text": [
      "Average training loss: 0.009491329838056117\n"
     ]
    },
    {
     "data": {
      "application/vnd.jupyter.widget-view+json": {
       "model_id": "2ba46027d59b4830849a7cc4da9bdb6b",
       "version_major": 2,
       "version_minor": 0
      },
      "text/plain": [
       "Epoch 194:   0%|          | 0/8 [00:00<?, ?it/s]"
      ]
     },
     "metadata": {},
     "output_type": "display_data"
    },
    {
     "name": "stdout",
     "output_type": "stream",
     "text": [
      "Average training loss: 0.009522380831185728\n"
     ]
    },
    {
     "data": {
      "application/vnd.jupyter.widget-view+json": {
       "model_id": "2785035f2d7e4daca2a09a79f18c4de3",
       "version_major": 2,
       "version_minor": 0
      },
      "text/plain": [
       "Epoch 195:   0%|          | 0/8 [00:00<?, ?it/s]"
      ]
     },
     "metadata": {},
     "output_type": "display_data"
    },
    {
     "name": "stdout",
     "output_type": "stream",
     "text": [
      "Average training loss: 0.009559332596836612\n"
     ]
    },
    {
     "data": {
      "application/vnd.jupyter.widget-view+json": {
       "model_id": "fa62c67346e441fe9aacf18f3251a904",
       "version_major": 2,
       "version_minor": 0
      },
      "text/plain": [
       "Epoch 196:   0%|          | 0/8 [00:00<?, ?it/s]"
      ]
     },
     "metadata": {},
     "output_type": "display_data"
    },
    {
     "name": "stdout",
     "output_type": "stream",
     "text": [
      "Average training loss: 0.009569639543769881\n"
     ]
    },
    {
     "data": {
      "application/vnd.jupyter.widget-view+json": {
       "model_id": "8448421e3a074df392d2db90c16221a1",
       "version_major": 2,
       "version_minor": 0
      },
      "text/plain": [
       "Epoch 197:   0%|          | 0/8 [00:00<?, ?it/s]"
      ]
     },
     "metadata": {},
     "output_type": "display_data"
    },
    {
     "name": "stdout",
     "output_type": "stream",
     "text": [
      "Average training loss: 0.009560228907503188\n"
     ]
    },
    {
     "data": {
      "application/vnd.jupyter.widget-view+json": {
       "model_id": "6edf9539836846f49c35b1390e533aa0",
       "version_major": 2,
       "version_minor": 0
      },
      "text/plain": [
       "Epoch 198:   0%|          | 0/8 [00:00<?, ?it/s]"
      ]
     },
     "metadata": {},
     "output_type": "display_data"
    },
    {
     "name": "stdout",
     "output_type": "stream",
     "text": [
      "Average training loss: 0.009550249844323844\n"
     ]
    },
    {
     "data": {
      "application/vnd.jupyter.widget-view+json": {
       "model_id": "d4716b719bb041f6998aa1e467ce8562",
       "version_major": 2,
       "version_minor": 0
      },
      "text/plain": [
       "Epoch 199:   0%|          | 0/8 [00:00<?, ?it/s]"
      ]
     },
     "metadata": {},
     "output_type": "display_data"
    },
    {
     "name": "stdout",
     "output_type": "stream",
     "text": [
      "Average training loss: 0.009533384087262675\n"
     ]
    },
    {
     "data": {
      "application/vnd.jupyter.widget-view+json": {
       "model_id": "5ca6de263be649d8b9dde7bdd0e8744c",
       "version_major": 2,
       "version_minor": 0
      },
      "text/plain": [
       "Epoch 200:   0%|          | 0/8 [00:00<?, ?it/s]"
      ]
     },
     "metadata": {},
     "output_type": "display_data"
    },
    {
     "name": "stdout",
     "output_type": "stream",
     "text": [
      "Average training loss: 0.009509813215117902\n"
     ]
    },
    {
     "data": {
      "application/vnd.jupyter.widget-view+json": {
       "model_id": "4456cfb2b2554c6aae8b5565b8efafed",
       "version_major": 2,
       "version_minor": 0
      },
      "text/plain": [
       "Epoch 201:   0%|          | 0/8 [00:00<?, ?it/s]"
      ]
     },
     "metadata": {},
     "output_type": "display_data"
    },
    {
     "name": "stdout",
     "output_type": "stream",
     "text": [
      "Average training loss: 0.009503357548965141\n"
     ]
    },
    {
     "data": {
      "application/vnd.jupyter.widget-view+json": {
       "model_id": "c8e6ca3d177c495684b35f36b11e2467",
       "version_major": 2,
       "version_minor": 0
      },
      "text/plain": [
       "Epoch 202:   0%|          | 0/8 [00:00<?, ?it/s]"
      ]
     },
     "metadata": {},
     "output_type": "display_data"
    },
    {
     "name": "stdout",
     "output_type": "stream",
     "text": [
      "Average training loss: 0.009480320528382435\n"
     ]
    },
    {
     "data": {
      "application/vnd.jupyter.widget-view+json": {
       "model_id": "fce112c4ce39436fa5b99f35e467b668",
       "version_major": 2,
       "version_minor": 0
      },
      "text/plain": [
       "Epoch 203:   0%|          | 0/8 [00:00<?, ?it/s]"
      ]
     },
     "metadata": {},
     "output_type": "display_data"
    },
    {
     "name": "stdout",
     "output_type": "stream",
     "text": [
      "Average training loss: 0.00946611593826674\n"
     ]
    },
    {
     "data": {
      "application/vnd.jupyter.widget-view+json": {
       "model_id": "2b8c4f0e524a49c7904472ef321ab528",
       "version_major": 2,
       "version_minor": 0
      },
      "text/plain": [
       "Epoch 204:   0%|          | 0/8 [00:00<?, ?it/s]"
      ]
     },
     "metadata": {},
     "output_type": "display_data"
    },
    {
     "name": "stdout",
     "output_type": "stream",
     "text": [
      "Average training loss: 0.009447112708585337\n"
     ]
    },
    {
     "data": {
      "application/vnd.jupyter.widget-view+json": {
       "model_id": "54c5fbaa6caa45f9b1803560dd73cc75",
       "version_major": 2,
       "version_minor": 0
      },
      "text/plain": [
       "Epoch 205:   0%|          | 0/8 [00:00<?, ?it/s]"
      ]
     },
     "metadata": {},
     "output_type": "display_data"
    },
    {
     "name": "stdout",
     "output_type": "stream",
     "text": [
      "Average training loss: 0.009434159466763958\n"
     ]
    },
    {
     "data": {
      "application/vnd.jupyter.widget-view+json": {
       "model_id": "26006cdd27f647b78b70a3e70241974a",
       "version_major": 2,
       "version_minor": 0
      },
      "text/plain": [
       "Epoch 206:   0%|          | 0/8 [00:00<?, ?it/s]"
      ]
     },
     "metadata": {},
     "output_type": "display_data"
    },
    {
     "name": "stdout",
     "output_type": "stream",
     "text": [
      "Average training loss: 0.009489137271884829\n"
     ]
    },
    {
     "data": {
      "application/vnd.jupyter.widget-view+json": {
       "model_id": "d64198ac0d8a431a9408e23061b03cd0",
       "version_major": 2,
       "version_minor": 0
      },
      "text/plain": [
       "Epoch 207:   0%|          | 0/8 [00:00<?, ?it/s]"
      ]
     },
     "metadata": {},
     "output_type": "display_data"
    },
    {
     "name": "stdout",
     "output_type": "stream",
     "text": [
      "Average training loss: 0.009523566317511722\n"
     ]
    },
    {
     "data": {
      "application/vnd.jupyter.widget-view+json": {
       "model_id": "217b173944dc4b5cbd46cad2773ef3e3",
       "version_major": 2,
       "version_minor": 0
      },
      "text/plain": [
       "Epoch 208:   0%|          | 0/8 [00:00<?, ?it/s]"
      ]
     },
     "metadata": {},
     "output_type": "display_data"
    },
    {
     "name": "stdout",
     "output_type": "stream",
     "text": [
      "Average training loss: 0.009562199033098295\n"
     ]
    },
    {
     "data": {
      "application/vnd.jupyter.widget-view+json": {
       "model_id": "c3a05ffd1fec44ae82d2a0a304ef794f",
       "version_major": 2,
       "version_minor": 0
      },
      "text/plain": [
       "Epoch 209:   0%|          | 0/8 [00:00<?, ?it/s]"
      ]
     },
     "metadata": {},
     "output_type": "display_data"
    },
    {
     "name": "stdout",
     "output_type": "stream",
     "text": [
      "Average training loss: 0.009570725436788052\n"
     ]
    },
    {
     "data": {
      "application/vnd.jupyter.widget-view+json": {
       "model_id": "9ab2df7a0c6c4fb5ab6f3d02b16d4d8b",
       "version_major": 2,
       "version_minor": 0
      },
      "text/plain": [
       "Epoch 210:   0%|          | 0/8 [00:00<?, ?it/s]"
      ]
     },
     "metadata": {},
     "output_type": "display_data"
    },
    {
     "name": "stdout",
     "output_type": "stream",
     "text": [
      "Average training loss: 0.009557949670124799\n"
     ]
    },
    {
     "data": {
      "application/vnd.jupyter.widget-view+json": {
       "model_id": "466b2ac738484cb498ca779e03872cdd",
       "version_major": 2,
       "version_minor": 0
      },
      "text/plain": [
       "Epoch 211:   0%|          | 0/8 [00:00<?, ?it/s]"
      ]
     },
     "metadata": {},
     "output_type": "display_data"
    },
    {
     "name": "stdout",
     "output_type": "stream",
     "text": [
      "Average training loss: 0.0095444381586276\n"
     ]
    },
    {
     "data": {
      "application/vnd.jupyter.widget-view+json": {
       "model_id": "09f88731a7be4717827b36c5a032c984",
       "version_major": 2,
       "version_minor": 0
      },
      "text/plain": [
       "Epoch 212:   0%|          | 0/8 [00:00<?, ?it/s]"
      ]
     },
     "metadata": {},
     "output_type": "display_data"
    },
    {
     "name": "stdout",
     "output_type": "stream",
     "text": [
      "Average training loss: 0.009528349241008982\n"
     ]
    },
    {
     "data": {
      "application/vnd.jupyter.widget-view+json": {
       "model_id": "5a92fe0de4054c27bc0ed6eb4c289bfc",
       "version_major": 2,
       "version_minor": 0
      },
      "text/plain": [
       "Epoch 213:   0%|          | 0/8 [00:00<?, ?it/s]"
      ]
     },
     "metadata": {},
     "output_type": "display_data"
    },
    {
     "name": "stdout",
     "output_type": "stream",
     "text": [
      "Average training loss: 0.009510345262242481\n"
     ]
    },
    {
     "data": {
      "application/vnd.jupyter.widget-view+json": {
       "model_id": "746ce62121aa4f78a96461af86236969",
       "version_major": 2,
       "version_minor": 0
      },
      "text/plain": [
       "Epoch 214:   0%|          | 0/8 [00:00<?, ?it/s]"
      ]
     },
     "metadata": {},
     "output_type": "display_data"
    },
    {
     "name": "stdout",
     "output_type": "stream",
     "text": [
      "Average training loss: 0.009495497273746878\n"
     ]
    },
    {
     "data": {
      "application/vnd.jupyter.widget-view+json": {
       "model_id": "55dbebd238984649a872db65a6a68697",
       "version_major": 2,
       "version_minor": 0
      },
      "text/plain": [
       "Epoch 215:   0%|          | 0/8 [00:00<?, ?it/s]"
      ]
     },
     "metadata": {},
     "output_type": "display_data"
    },
    {
     "name": "stdout",
     "output_type": "stream",
     "text": [
      "Average training loss: 0.009479155647568405\n"
     ]
    },
    {
     "data": {
      "application/vnd.jupyter.widget-view+json": {
       "model_id": "2038e452bc744932819200dee9304f78",
       "version_major": 2,
       "version_minor": 0
      },
      "text/plain": [
       "Epoch 216:   0%|          | 0/8 [00:00<?, ?it/s]"
      ]
     },
     "metadata": {},
     "output_type": "display_data"
    },
    {
     "name": "stdout",
     "output_type": "stream",
     "text": [
      "Average training loss: 0.009463769383728504\n"
     ]
    },
    {
     "data": {
      "application/vnd.jupyter.widget-view+json": {
       "model_id": "7820069089ff46888d2e45c590dfa354",
       "version_major": 2,
       "version_minor": 0
      },
      "text/plain": [
       "Epoch 217:   0%|          | 0/8 [00:00<?, ?it/s]"
      ]
     },
     "metadata": {},
     "output_type": "display_data"
    },
    {
     "name": "stdout",
     "output_type": "stream",
     "text": [
      "Average training loss: 0.009447629825444892\n"
     ]
    },
    {
     "data": {
      "application/vnd.jupyter.widget-view+json": {
       "model_id": "1b757fb599ee4468ac268de1ba8e7c11",
       "version_major": 2,
       "version_minor": 0
      },
      "text/plain": [
       "Epoch 218:   0%|          | 0/8 [00:00<?, ?it/s]"
      ]
     },
     "metadata": {},
     "output_type": "display_data"
    },
    {
     "name": "stdout",
     "output_type": "stream",
     "text": [
      "Average training loss: 0.009433240338694304\n"
     ]
    },
    {
     "data": {
      "application/vnd.jupyter.widget-view+json": {
       "model_id": "051913ab24da4130b81222dc557af97c",
       "version_major": 2,
       "version_minor": 0
      },
      "text/plain": [
       "Epoch 219:   0%|          | 0/8 [00:00<?, ?it/s]"
      ]
     },
     "metadata": {},
     "output_type": "display_data"
    },
    {
     "name": "stdout",
     "output_type": "stream",
     "text": [
      "Average training loss: 0.009420203510671854\n"
     ]
    },
    {
     "data": {
      "application/vnd.jupyter.widget-view+json": {
       "model_id": "5fdd6a04cbff4b0195d7e941a7c712e9",
       "version_major": 2,
       "version_minor": 0
      },
      "text/plain": [
       "Epoch 220:   0%|          | 0/8 [00:00<?, ?it/s]"
      ]
     },
     "metadata": {},
     "output_type": "display_data"
    },
    {
     "name": "stdout",
     "output_type": "stream",
     "text": [
      "Average training loss: 0.00940549123333767\n"
     ]
    },
    {
     "data": {
      "application/vnd.jupyter.widget-view+json": {
       "model_id": "48effb5aae0a481b879c31a1154ccec2",
       "version_major": 2,
       "version_minor": 0
      },
      "text/plain": [
       "Epoch 221:   0%|          | 0/8 [00:00<?, ?it/s]"
      ]
     },
     "metadata": {},
     "output_type": "display_data"
    },
    {
     "name": "stdout",
     "output_type": "stream",
     "text": [
      "Average training loss: 0.009398139867698774\n"
     ]
    },
    {
     "data": {
      "application/vnd.jupyter.widget-view+json": {
       "model_id": "06fec9db3df1427283b9f5d5c611dff8",
       "version_major": 2,
       "version_minor": 0
      },
      "text/plain": [
       "Epoch 222:   0%|          | 0/8 [00:00<?, ?it/s]"
      ]
     },
     "metadata": {},
     "output_type": "display_data"
    },
    {
     "name": "stdout",
     "output_type": "stream",
     "text": [
      "Average training loss: 0.009396195557201281\n"
     ]
    },
    {
     "data": {
      "application/vnd.jupyter.widget-view+json": {
       "model_id": "01187930c9de4a0c842696a1064a0bfa",
       "version_major": 2,
       "version_minor": 0
      },
      "text/plain": [
       "Epoch 223:   0%|          | 0/8 [00:00<?, ?it/s]"
      ]
     },
     "metadata": {},
     "output_type": "display_data"
    },
    {
     "name": "stdout",
     "output_type": "stream",
     "text": [
      "Average training loss: 0.009387930564116687\n"
     ]
    },
    {
     "data": {
      "application/vnd.jupyter.widget-view+json": {
       "model_id": "97f9263ee78a40bb8cfa001f0ad26c30",
       "version_major": 2,
       "version_minor": 0
      },
      "text/plain": [
       "Epoch 224:   0%|          | 0/8 [00:00<?, ?it/s]"
      ]
     },
     "metadata": {},
     "output_type": "display_data"
    },
    {
     "name": "stdout",
     "output_type": "stream",
     "text": [
      "Average training loss: 0.009393438318511471\n"
     ]
    },
    {
     "data": {
      "application/vnd.jupyter.widget-view+json": {
       "model_id": "04844da35e8b494f9099b021945ed697",
       "version_major": 2,
       "version_minor": 0
      },
      "text/plain": [
       "Epoch 225:   0%|          | 0/8 [00:00<?, ?it/s]"
      ]
     },
     "metadata": {},
     "output_type": "display_data"
    },
    {
     "name": "stdout",
     "output_type": "stream",
     "text": [
      "Average training loss: 0.009387702331878245\n"
     ]
    },
    {
     "data": {
      "application/vnd.jupyter.widget-view+json": {
       "model_id": "8d015cf761d94b02962a9a0cff6b4e86",
       "version_major": 2,
       "version_minor": 0
      },
      "text/plain": [
       "Epoch 226:   0%|          | 0/8 [00:00<?, ?it/s]"
      ]
     },
     "metadata": {},
     "output_type": "display_data"
    },
    {
     "name": "stdout",
     "output_type": "stream",
     "text": [
      "Average training loss: 0.009383234631968662\n"
     ]
    },
    {
     "data": {
      "application/vnd.jupyter.widget-view+json": {
       "model_id": "98de36122e184dc08cb07b4bf4d13ca1",
       "version_major": 2,
       "version_minor": 0
      },
      "text/plain": [
       "Epoch 227:   0%|          | 0/8 [00:00<?, ?it/s]"
      ]
     },
     "metadata": {},
     "output_type": "display_data"
    },
    {
     "name": "stdout",
     "output_type": "stream",
     "text": [
      "Average training loss: 0.009384000324644148\n"
     ]
    },
    {
     "data": {
      "application/vnd.jupyter.widget-view+json": {
       "model_id": "4977ca1c037d416785630dd4a7802890",
       "version_major": 2,
       "version_minor": 0
      },
      "text/plain": [
       "Epoch 228:   0%|          | 0/8 [00:00<?, ?it/s]"
      ]
     },
     "metadata": {},
     "output_type": "display_data"
    },
    {
     "name": "stdout",
     "output_type": "stream",
     "text": [
      "Average training loss: 0.009372241736855358\n"
     ]
    },
    {
     "data": {
      "application/vnd.jupyter.widget-view+json": {
       "model_id": "a2955ebc46554fd59b1277cb60a29ec2",
       "version_major": 2,
       "version_minor": 0
      },
      "text/plain": [
       "Epoch 229:   0%|          | 0/8 [00:00<?, ?it/s]"
      ]
     },
     "metadata": {},
     "output_type": "display_data"
    },
    {
     "name": "stdout",
     "output_type": "stream",
     "text": [
      "Average training loss: 0.009377332840813324\n"
     ]
    },
    {
     "data": {
      "application/vnd.jupyter.widget-view+json": {
       "model_id": "001d915a961d44469fdc6c1f15cb7518",
       "version_major": 2,
       "version_minor": 0
      },
      "text/plain": [
       "Epoch 230:   0%|          | 0/8 [00:00<?, ?it/s]"
      ]
     },
     "metadata": {},
     "output_type": "display_data"
    },
    {
     "name": "stdout",
     "output_type": "stream",
     "text": [
      "Average training loss: 0.009367008635308594\n"
     ]
    },
    {
     "data": {
      "application/vnd.jupyter.widget-view+json": {
       "model_id": "ac9a82034a1b479a85d6d7661e65bbb3",
       "version_major": 2,
       "version_minor": 0
      },
      "text/plain": [
       "Epoch 231:   0%|          | 0/8 [00:00<?, ?it/s]"
      ]
     },
     "metadata": {},
     "output_type": "display_data"
    },
    {
     "name": "stdout",
     "output_type": "stream",
     "text": [
      "Average training loss: 0.009373723034514114\n"
     ]
    },
    {
     "data": {
      "application/vnd.jupyter.widget-view+json": {
       "model_id": "15b8a8431de24cc9bc05dfe6fec68595",
       "version_major": 2,
       "version_minor": 0
      },
      "text/plain": [
       "Epoch 232:   0%|          | 0/8 [00:00<?, ?it/s]"
      ]
     },
     "metadata": {},
     "output_type": "display_data"
    },
    {
     "name": "stdout",
     "output_type": "stream",
     "text": [
      "Average training loss: 0.00936959619866684\n"
     ]
    },
    {
     "data": {
      "application/vnd.jupyter.widget-view+json": {
       "model_id": "954f77e9812940219abe4a9577687241",
       "version_major": 2,
       "version_minor": 0
      },
      "text/plain": [
       "Epoch 233:   0%|          | 0/8 [00:00<?, ?it/s]"
      ]
     },
     "metadata": {},
     "output_type": "display_data"
    },
    {
     "name": "stdout",
     "output_type": "stream",
     "text": [
      "Average training loss: 0.009364602476125583\n"
     ]
    },
    {
     "data": {
      "application/vnd.jupyter.widget-view+json": {
       "model_id": "bc3d2476bae24ff6a1085e5b7c07a878",
       "version_major": 2,
       "version_minor": 0
      },
      "text/plain": [
       "Epoch 234:   0%|          | 0/8 [00:00<?, ?it/s]"
      ]
     },
     "metadata": {},
     "output_type": "display_data"
    },
    {
     "name": "stdout",
     "output_type": "stream",
     "text": [
      "Average training loss: 0.009359989082440734\n"
     ]
    },
    {
     "data": {
      "application/vnd.jupyter.widget-view+json": {
       "model_id": "c12b60c12b674f93a00697fb2432f0bd",
       "version_major": 2,
       "version_minor": 0
      },
      "text/plain": [
       "Epoch 235:   0%|          | 0/8 [00:00<?, ?it/s]"
      ]
     },
     "metadata": {},
     "output_type": "display_data"
    },
    {
     "name": "stdout",
     "output_type": "stream",
     "text": [
      "Average training loss: 0.00936329530668445\n"
     ]
    },
    {
     "data": {
      "application/vnd.jupyter.widget-view+json": {
       "model_id": "7e268db3b6804331ac3d7a689ee8ca6f",
       "version_major": 2,
       "version_minor": 0
      },
      "text/plain": [
       "Epoch 236:   0%|          | 0/8 [00:00<?, ?it/s]"
      ]
     },
     "metadata": {},
     "output_type": "display_data"
    },
    {
     "name": "stdout",
     "output_type": "stream",
     "text": [
      "Average training loss: 0.009373601846164092\n"
     ]
    },
    {
     "data": {
      "application/vnd.jupyter.widget-view+json": {
       "model_id": "9467c39a6c50430c9443919843eac589",
       "version_major": 2,
       "version_minor": 0
      },
      "text/plain": [
       "Epoch 237:   0%|          | 0/8 [00:00<?, ?it/s]"
      ]
     },
     "metadata": {},
     "output_type": "display_data"
    },
    {
     "name": "stdout",
     "output_type": "stream",
     "text": [
      "Average training loss: 0.009365617617731914\n"
     ]
    },
    {
     "data": {
      "application/vnd.jupyter.widget-view+json": {
       "model_id": "ef47f1778747418691119055d0e11b3b",
       "version_major": 2,
       "version_minor": 0
      },
      "text/plain": [
       "Epoch 238:   0%|          | 0/8 [00:00<?, ?it/s]"
      ]
     },
     "metadata": {},
     "output_type": "display_data"
    },
    {
     "name": "stdout",
     "output_type": "stream",
     "text": [
      "Average training loss: 0.009353226138046011\n"
     ]
    },
    {
     "data": {
      "application/vnd.jupyter.widget-view+json": {
       "model_id": "ebbdd9e4d66e4b19b11daaaa48f26126",
       "version_major": 2,
       "version_minor": 0
      },
      "text/plain": [
       "Epoch 239:   0%|          | 0/8 [00:00<?, ?it/s]"
      ]
     },
     "metadata": {},
     "output_type": "display_data"
    },
    {
     "name": "stdout",
     "output_type": "stream",
     "text": [
      "Average training loss: 0.009349532600026578\n"
     ]
    },
    {
     "data": {
      "application/vnd.jupyter.widget-view+json": {
       "model_id": "da1aa85629ad4b069ed282a048664e8e",
       "version_major": 2,
       "version_minor": 0
      },
      "text/plain": [
       "Epoch 240:   0%|          | 0/8 [00:00<?, ?it/s]"
      ]
     },
     "metadata": {},
     "output_type": "display_data"
    },
    {
     "name": "stdout",
     "output_type": "stream",
     "text": [
      "Average training loss: 0.009347227052785456\n"
     ]
    },
    {
     "data": {
      "application/vnd.jupyter.widget-view+json": {
       "model_id": "2712aebc284945a5aa748beb4872233a",
       "version_major": 2,
       "version_minor": 0
      },
      "text/plain": [
       "Epoch 241:   0%|          | 0/8 [00:00<?, ?it/s]"
      ]
     },
     "metadata": {},
     "output_type": "display_data"
    },
    {
     "name": "stdout",
     "output_type": "stream",
     "text": [
      "Average training loss: 0.009338576259324327\n"
     ]
    },
    {
     "data": {
      "application/vnd.jupyter.widget-view+json": {
       "model_id": "12c52becf6ba42a4b170e5d8fac7ec59",
       "version_major": 2,
       "version_minor": 0
      },
      "text/plain": [
       "Epoch 242:   0%|          | 0/8 [00:00<?, ?it/s]"
      ]
     },
     "metadata": {},
     "output_type": "display_data"
    },
    {
     "name": "stdout",
     "output_type": "stream",
     "text": [
      "Average training loss: 0.009337181749287993\n"
     ]
    },
    {
     "data": {
      "application/vnd.jupyter.widget-view+json": {
       "model_id": "1f2c67eec3cf4b0e8f847ebd7ed722d1",
       "version_major": 2,
       "version_minor": 0
      },
      "text/plain": [
       "Epoch 243:   0%|          | 0/8 [00:00<?, ?it/s]"
      ]
     },
     "metadata": {},
     "output_type": "display_data"
    },
    {
     "name": "stdout",
     "output_type": "stream",
     "text": [
      "Average training loss: 0.009336556977359578\n"
     ]
    },
    {
     "data": {
      "application/vnd.jupyter.widget-view+json": {
       "model_id": "93a924a5d11f4905b1bc36cb65e6dfd8",
       "version_major": 2,
       "version_minor": 0
      },
      "text/plain": [
       "Epoch 244:   0%|          | 0/8 [00:00<?, ?it/s]"
      ]
     },
     "metadata": {},
     "output_type": "display_data"
    },
    {
     "name": "stdout",
     "output_type": "stream",
     "text": [
      "Average training loss: 0.00933385724783875\n"
     ]
    },
    {
     "data": {
      "application/vnd.jupyter.widget-view+json": {
       "model_id": "446d2ab796c74e78b1b9c6d5d60bf9e2",
       "version_major": 2,
       "version_minor": 0
      },
      "text/plain": [
       "Epoch 245:   0%|          | 0/8 [00:00<?, ?it/s]"
      ]
     },
     "metadata": {},
     "output_type": "display_data"
    },
    {
     "name": "stdout",
     "output_type": "stream",
     "text": [
      "Average training loss: 0.009332097804872319\n"
     ]
    },
    {
     "data": {
      "application/vnd.jupyter.widget-view+json": {
       "model_id": "70f832c7d06743309524ae0313a300ae",
       "version_major": 2,
       "version_minor": 0
      },
      "text/plain": [
       "Epoch 246:   0%|          | 0/8 [00:00<?, ?it/s]"
      ]
     },
     "metadata": {},
     "output_type": "display_data"
    },
    {
     "name": "stdout",
     "output_type": "stream",
     "text": [
      "Average training loss: 0.009323607227997854\n"
     ]
    },
    {
     "data": {
      "application/vnd.jupyter.widget-view+json": {
       "model_id": "5fec946622484551bc413211fd9cfb4d",
       "version_major": 2,
       "version_minor": 0
      },
      "text/plain": [
       "Epoch 247:   0%|          | 0/8 [00:00<?, ?it/s]"
      ]
     },
     "metadata": {},
     "output_type": "display_data"
    },
    {
     "name": "stdout",
     "output_type": "stream",
     "text": [
      "Average training loss: 0.009330459055490792\n"
     ]
    },
    {
     "data": {
      "application/vnd.jupyter.widget-view+json": {
       "model_id": "bef2d5ce36684f06acd2e3c26c9ec4ec",
       "version_major": 2,
       "version_minor": 0
      },
      "text/plain": [
       "Epoch 248:   0%|          | 0/8 [00:00<?, ?it/s]"
      ]
     },
     "metadata": {},
     "output_type": "display_data"
    },
    {
     "name": "stdout",
     "output_type": "stream",
     "text": [
      "Average training loss: 0.009316838491940871\n"
     ]
    },
    {
     "data": {
      "application/vnd.jupyter.widget-view+json": {
       "model_id": "527a5d4f0b014135ba3b029163732126",
       "version_major": 2,
       "version_minor": 0
      },
      "text/plain": [
       "Epoch 249:   0%|          | 0/8 [00:00<?, ?it/s]"
      ]
     },
     "metadata": {},
     "output_type": "display_data"
    },
    {
     "name": "stdout",
     "output_type": "stream",
     "text": [
      "Average training loss: 0.009314433700637892\n"
     ]
    },
    {
     "data": {
      "application/vnd.jupyter.widget-view+json": {
       "model_id": "0dda73b6eb6a4942835cb30533950bd3",
       "version_major": 2,
       "version_minor": 0
      },
      "text/plain": [
       "Epoch 250:   0%|          | 0/8 [00:00<?, ?it/s]"
      ]
     },
     "metadata": {},
     "output_type": "display_data"
    },
    {
     "name": "stdout",
     "output_type": "stream",
     "text": [
      "Average training loss: 1.3818373698741198\n"
     ]
    },
    {
     "data": {
      "application/vnd.jupyter.widget-view+json": {
       "model_id": "bc466eea0bf94029885fc44446f8ff0c",
       "version_major": 2,
       "version_minor": 0
      },
      "text/plain": [
       "Epoch 251:   0%|          | 0/8 [00:00<?, ?it/s]"
      ]
     },
     "metadata": {},
     "output_type": "display_data"
    },
    {
     "name": "stdout",
     "output_type": "stream",
     "text": [
      "Average training loss: 0.00941614416660741\n"
     ]
    },
    {
     "data": {
      "application/vnd.jupyter.widget-view+json": {
       "model_id": "ae19ddee60e14d5c988b54b175e0be6f",
       "version_major": 2,
       "version_minor": 0
      },
      "text/plain": [
       "Epoch 252:   0%|          | 0/8 [00:00<?, ?it/s]"
      ]
     },
     "metadata": {},
     "output_type": "display_data"
    },
    {
     "name": "stdout",
     "output_type": "stream",
     "text": [
      "Average training loss: 0.0097644601482898\n"
     ]
    },
    {
     "data": {
      "application/vnd.jupyter.widget-view+json": {
       "model_id": "9301f567129748d5ae0ab2bb2e19afb2",
       "version_major": 2,
       "version_minor": 0
      },
      "text/plain": [
       "Epoch 253:   0%|          | 0/8 [00:00<?, ?it/s]"
      ]
     },
     "metadata": {},
     "output_type": "display_data"
    },
    {
     "name": "stdout",
     "output_type": "stream",
     "text": [
      "Average training loss: 0.009896850620862097\n"
     ]
    },
    {
     "data": {
      "application/vnd.jupyter.widget-view+json": {
       "model_id": "3c614e513278403e8a3e8c47b834a759",
       "version_major": 2,
       "version_minor": 0
      },
      "text/plain": [
       "Epoch 254:   0%|          | 0/8 [00:00<?, ?it/s]"
      ]
     },
     "metadata": {},
     "output_type": "display_data"
    },
    {
     "name": "stdout",
     "output_type": "stream",
     "text": [
      "Average training loss: 0.010004424373619258\n"
     ]
    },
    {
     "data": {
      "application/vnd.jupyter.widget-view+json": {
       "model_id": "c63f5cd632494c289f24016646a93008",
       "version_major": 2,
       "version_minor": 0
      },
      "text/plain": [
       "Epoch 255:   0%|          | 0/8 [00:00<?, ?it/s]"
      ]
     },
     "metadata": {},
     "output_type": "display_data"
    },
    {
     "name": "stdout",
     "output_type": "stream",
     "text": [
      "Average training loss: 0.010029236815171316\n"
     ]
    },
    {
     "data": {
      "application/vnd.jupyter.widget-view+json": {
       "model_id": "141b445d2c644e13bc78592db41f9853",
       "version_major": 2,
       "version_minor": 0
      },
      "text/plain": [
       "Epoch 256:   0%|          | 0/8 [00:00<?, ?it/s]"
      ]
     },
     "metadata": {},
     "output_type": "display_data"
    },
    {
     "name": "stdout",
     "output_type": "stream",
     "text": [
      "Average training loss: 0.01004145568003878\n"
     ]
    },
    {
     "data": {
      "application/vnd.jupyter.widget-view+json": {
       "model_id": "efee3a73e58041e891f9472047cb8226",
       "version_major": 2,
       "version_minor": 0
      },
      "text/plain": [
       "Epoch 257:   0%|          | 0/8 [00:00<?, ?it/s]"
      ]
     },
     "metadata": {},
     "output_type": "display_data"
    },
    {
     "name": "stdout",
     "output_type": "stream",
     "text": [
      "Average training loss: 0.010048423951957375\n"
     ]
    },
    {
     "data": {
      "application/vnd.jupyter.widget-view+json": {
       "model_id": "2600841361e54cc886f8e0ac02643ca0",
       "version_major": 2,
       "version_minor": 0
      },
      "text/plain": [
       "Epoch 258:   0%|          | 0/8 [00:00<?, ?it/s]"
      ]
     },
     "metadata": {},
     "output_type": "display_data"
    },
    {
     "name": "stdout",
     "output_type": "stream",
     "text": [
      "Average training loss: 0.010051650751847774\n"
     ]
    },
    {
     "data": {
      "application/vnd.jupyter.widget-view+json": {
       "model_id": "e241320d839440aaae4d5c90f6540865",
       "version_major": 2,
       "version_minor": 0
      },
      "text/plain": [
       "Epoch 259:   0%|          | 0/8 [00:00<?, ?it/s]"
      ]
     },
     "metadata": {},
     "output_type": "display_data"
    },
    {
     "name": "stdout",
     "output_type": "stream",
     "text": [
      "Average training loss: 0.010052685916889459\n"
     ]
    },
    {
     "data": {
      "application/vnd.jupyter.widget-view+json": {
       "model_id": "1a1a4a1a7dd74d28a3905b634febf438",
       "version_major": 2,
       "version_minor": 0
      },
      "text/plain": [
       "Epoch 260:   0%|          | 0/8 [00:00<?, ?it/s]"
      ]
     },
     "metadata": {},
     "output_type": "display_data"
    },
    {
     "name": "stdout",
     "output_type": "stream",
     "text": [
      "Average training loss: 0.010053213190985844\n"
     ]
    },
    {
     "data": {
      "application/vnd.jupyter.widget-view+json": {
       "model_id": "678e3eac39904a4abdbc27686c21ec64",
       "version_major": 2,
       "version_minor": 0
      },
      "text/plain": [
       "Epoch 261:   0%|          | 0/8 [00:00<?, ?it/s]"
      ]
     },
     "metadata": {},
     "output_type": "display_data"
    },
    {
     "name": "stdout",
     "output_type": "stream",
     "text": [
      "Average training loss: 0.0100533856311813\n"
     ]
    },
    {
     "data": {
      "application/vnd.jupyter.widget-view+json": {
       "model_id": "08401ec756954253bf0f5d840c7f1d1f",
       "version_major": 2,
       "version_minor": 0
      },
      "text/plain": [
       "Epoch 262:   0%|          | 0/8 [00:00<?, ?it/s]"
      ]
     },
     "metadata": {},
     "output_type": "display_data"
    },
    {
     "name": "stdout",
     "output_type": "stream",
     "text": [
      "Average training loss: 0.010053474950836971\n"
     ]
    },
    {
     "data": {
      "application/vnd.jupyter.widget-view+json": {
       "model_id": "f332e71a197e4965a1d6d3aa76ebf1b5",
       "version_major": 2,
       "version_minor": 0
      },
      "text/plain": [
       "Epoch 263:   0%|          | 0/8 [00:00<?, ?it/s]"
      ]
     },
     "metadata": {},
     "output_type": "display_data"
    },
    {
     "name": "stdout",
     "output_type": "stream",
     "text": [
      "Average training loss: 0.010053522884845734\n"
     ]
    },
    {
     "data": {
      "application/vnd.jupyter.widget-view+json": {
       "model_id": "f6ad3ade1bd449e5a08d9769b55cbee7",
       "version_major": 2,
       "version_minor": 0
      },
      "text/plain": [
       "Epoch 264:   0%|          | 0/8 [00:00<?, ?it/s]"
      ]
     },
     "metadata": {},
     "output_type": "display_data"
    },
    {
     "name": "stdout",
     "output_type": "stream",
     "text": [
      "Average training loss: 0.010053543810499832\n"
     ]
    },
    {
     "data": {
      "application/vnd.jupyter.widget-view+json": {
       "model_id": "784f04a4c37b4e969c02b157c4702a4d",
       "version_major": 2,
       "version_minor": 0
      },
      "text/plain": [
       "Epoch 265:   0%|          | 0/8 [00:00<?, ?it/s]"
      ]
     },
     "metadata": {},
     "output_type": "display_data"
    },
    {
     "name": "stdout",
     "output_type": "stream",
     "text": [
      "Average training loss: 0.010053550999145955\n"
     ]
    },
    {
     "data": {
      "application/vnd.jupyter.widget-view+json": {
       "model_id": "76dded5a5eaa4387877fade64bdb30ca",
       "version_major": 2,
       "version_minor": 0
      },
      "text/plain": [
       "Epoch 266:   0%|          | 0/8 [00:00<?, ?it/s]"
      ]
     },
     "metadata": {},
     "output_type": "display_data"
    },
    {
     "name": "stdout",
     "output_type": "stream",
     "text": [
      "Average training loss: 0.010053552250610664\n"
     ]
    },
    {
     "data": {
      "application/vnd.jupyter.widget-view+json": {
       "model_id": "3172e1ed8d264a01b4f2448389632850",
       "version_major": 2,
       "version_minor": 0
      },
      "text/plain": [
       "Epoch 267:   0%|          | 0/8 [00:00<?, ?it/s]"
      ]
     },
     "metadata": {},
     "output_type": "display_data"
    },
    {
     "name": "stdout",
     "output_type": "stream",
     "text": [
      "Average training loss: 0.010053551435703412\n"
     ]
    },
    {
     "data": {
      "application/vnd.jupyter.widget-view+json": {
       "model_id": "d1f96e3c215c49c79146921fca381d26",
       "version_major": 2,
       "version_minor": 0
      },
      "text/plain": [
       "Epoch 268:   0%|          | 0/8 [00:00<?, ?it/s]"
      ]
     },
     "metadata": {},
     "output_type": "display_data"
    },
    {
     "name": "stdout",
     "output_type": "stream",
     "text": [
      "Average training loss: 0.01005355067900382\n"
     ]
    },
    {
     "data": {
      "application/vnd.jupyter.widget-view+json": {
       "model_id": "36732b6d541c435697b36219e2c4359f",
       "version_major": 2,
       "version_minor": 0
      },
      "text/plain": [
       "Epoch 269:   0%|          | 0/8 [00:00<?, ?it/s]"
      ]
     },
     "metadata": {},
     "output_type": "display_data"
    },
    {
     "name": "stdout",
     "output_type": "stream",
     "text": [
      "Average training loss: 0.010053548845462501\n"
     ]
    },
    {
     "data": {
      "application/vnd.jupyter.widget-view+json": {
       "model_id": "fb760a1358b049399c232422f87d2fe5",
       "version_major": 2,
       "version_minor": 0
      },
      "text/plain": [
       "Epoch 270:   0%|          | 0/8 [00:00<?, ?it/s]"
      ]
     },
     "metadata": {},
     "output_type": "display_data"
    },
    {
     "name": "stdout",
     "output_type": "stream",
     "text": [
      "Average training loss: 0.010053547652205452\n"
     ]
    },
    {
     "data": {
      "application/vnd.jupyter.widget-view+json": {
       "model_id": "d927880469494a72a22a3771f50a4de5",
       "version_major": 2,
       "version_minor": 0
      },
      "text/plain": [
       "Epoch 271:   0%|          | 0/8 [00:00<?, ?it/s]"
      ]
     },
     "metadata": {},
     "output_type": "display_data"
    },
    {
     "name": "stdout",
     "output_type": "stream",
     "text": [
      "Average training loss: 0.010053545265691355\n"
     ]
    },
    {
     "data": {
      "application/vnd.jupyter.widget-view+json": {
       "model_id": "0eab3227e72f4174bf5587a4d6e30f47",
       "version_major": 2,
       "version_minor": 0
      },
      "text/plain": [
       "Epoch 272:   0%|          | 0/8 [00:00<?, ?it/s]"
      ]
     },
     "metadata": {},
     "output_type": "display_data"
    },
    {
     "name": "stdout",
     "output_type": "stream",
     "text": [
      "Average training loss: 0.010053543228423223\n"
     ]
    },
    {
     "data": {
      "application/vnd.jupyter.widget-view+json": {
       "model_id": "01e88a018d6f45f38075ce64bd86052f",
       "version_major": 2,
       "version_minor": 0
      },
      "text/plain": [
       "Epoch 273:   0%|          | 0/8 [00:00<?, ?it/s]"
      ]
     },
     "metadata": {},
     "output_type": "display_data"
    },
    {
     "name": "stdout",
     "output_type": "stream",
     "text": [
      "Average training loss: 0.010053541307570413\n"
     ]
    },
    {
     "data": {
      "application/vnd.jupyter.widget-view+json": {
       "model_id": "5cf38f55144e46aeb0fdea4d91a07d1e",
       "version_major": 2,
       "version_minor": 0
      },
      "text/plain": [
       "Epoch 274:   0%|          | 0/8 [00:00<?, ?it/s]"
      ]
     },
     "metadata": {},
     "output_type": "display_data"
    },
    {
     "name": "stdout",
     "output_type": "stream",
     "text": [
      "Average training loss: 0.010053539066575468\n"
     ]
    },
    {
     "data": {
      "application/vnd.jupyter.widget-view+json": {
       "model_id": "bbeae8b0d4d14067bedd44f2b46d0318",
       "version_major": 2,
       "version_minor": 0
      },
      "text/plain": [
       "Epoch 275:   0%|          | 0/8 [00:00<?, ?it/s]"
      ]
     },
     "metadata": {},
     "output_type": "display_data"
    },
    {
     "name": "stdout",
     "output_type": "stream",
     "text": [
      "Average training loss: 0.0100535367091652\n"
     ]
    },
    {
     "data": {
      "application/vnd.jupyter.widget-view+json": {
       "model_id": "47a9ee8da6994153a8278ab0465fa131",
       "version_major": 2,
       "version_minor": 0
      },
      "text/plain": [
       "Epoch 276:   0%|          | 0/8 [00:00<?, ?it/s]"
      ]
     },
     "metadata": {},
     "output_type": "display_data"
    },
    {
     "ename": "KeyboardInterrupt",
     "evalue": "",
     "output_type": "error",
     "traceback": [
      "\u001b[0;31m---------------------------------------------------------------------------\u001b[0m",
      "\u001b[0;31mKeyboardInterrupt\u001b[0m                         Traceback (most recent call last)",
      "Cell \u001b[0;32mIn[7], line 6\u001b[0m\n\u001b[1;32m      4\u001b[0m train_losses \u001b[38;5;241m=\u001b[39m []\n\u001b[1;32m      5\u001b[0m \u001b[38;5;28;01mfor\u001b[39;00m sample, brightness \u001b[38;5;129;01min\u001b[39;00m tqdm(train_loader, desc\u001b[38;5;241m=\u001b[39m\u001b[38;5;124mf\u001b[39m\u001b[38;5;124m\"\u001b[39m\u001b[38;5;124mEpoch \u001b[39m\u001b[38;5;132;01m{\u001b[39;00me\u001b[38;5;132;01m}\u001b[39;00m\u001b[38;5;124m\"\u001b[39m):\n\u001b[0;32m----> 6\u001b[0m     sample \u001b[38;5;241m=\u001b[39m \u001b[43msample\u001b[49m\u001b[38;5;241;43m.\u001b[39;49m\u001b[43mto\u001b[49m\u001b[43m(\u001b[49m\u001b[43mdevice\u001b[49m\u001b[43m)\u001b[49m\n\u001b[1;32m      7\u001b[0m     brightness \u001b[38;5;241m=\u001b[39m brightness\u001b[38;5;241m.\u001b[39mfloat()\u001b[38;5;241m.\u001b[39mto(device)\n\u001b[1;32m      8\u001b[0m     prediction \u001b[38;5;241m=\u001b[39m model(sample)\n",
      "\u001b[0;31mKeyboardInterrupt\u001b[0m: "
     ]
    }
   ],
   "source": [
    "max_epochs = 500\n",
    "\n",
    "while e < max_epochs:\n",
    "    train_losses = []\n",
    "    for sample, brightness in tqdm(train_loader, desc=f\"Epoch {e}\"):\n",
    "        sample = sample.to(device)\n",
    "        brightness = brightness.float().to(device)\n",
    "        prediction = model(sample)\n",
    "        loss = loss_fn(prediction, brightness)\n",
    "        train_losses.append(loss.detach().cpu().item())\n",
    "        optim.zero_grad()\n",
    "        loss.backward()\n",
    "        optim.step()\n",
    "\n",
    "        # CMAP = \"viridis\"\n",
    "        # fig, axs = plt.subplots(1,2,figsize=(12,6))\n",
    "        # target = np.squeeze(brightness.detach().cpu().numpy())\n",
    "        # pred = np.squeeze(prediction.detach().cpu().numpy())\n",
    "        # vmin = np.min(pred)\n",
    "        # vmax = np.max(pred)\n",
    "        # im = axs[0].imshow(target, vmin=vmin, vmax=vmax, cmap=CMAP)\n",
    "        # axs[0].set_title(\"Original Brightness\")\n",
    "        # axs[1].imshow(pred, vmin=vmin, vmax=vmax, cmap=CMAP)\n",
    "        # axs[1].set_title(\"ACES Brightness\")\n",
    "        # fig.colorbar(im, ax=axs, orientation='vertical', fraction=0.02, pad=0.04)\n",
    "\n",
    "    checkpoint[\"state_dict\"] = model.state_dict()\n",
    "    checkpoint[\"train_losses\"].append(np.mean(train_losses))\n",
    "    checkpoint[\"train_errors\"].append([np.min(train_losses), np.max(train_losses)])\n",
    "    torch.save(checkpoint, checkpoint_file_path(e))\n",
    "    print(f\"Average training loss: {checkpoint[\"train_losses\"][-1]}\")\n",
    "    e += 1"
   ]
  },
  {
   "cell_type": "code",
   "execution_count": 8,
   "id": "c8451bfc-2e9c-49ca-a3b6-c0ed40df35bc",
   "metadata": {},
   "outputs": [
    {
     "name": "stdout",
     "output_type": "stream",
     "text": [
      "[0.14737704 0.17472397 0.75167084 0.96517015]\n"
     ]
    },
    {
     "data": {
      "image/png": "[encoded data removed]",
      "text/plain": [
       "<Figure size 1000x600 with 1 Axes>"
      ]
     },
     "metadata": {},
     "output_type": "display_data"
    }
   ],
   "source": [
    "import matplotlib.pyplot as plt\n",
    "\n",
    "x_range = list(range(len(checkpoint[\"train_losses\"])))\n",
    "fig, ax = plt.subplots(1, 1, figsize=(10,6))\n",
    "ax.set_xlabel(\"Epochs\")\n",
    "ax.set_ylabel(\"Training loss (MSE)\")\n",
    "ax.fill_between(\n",
    "    x_range,\n",
    "    [y2 for _, y2 in checkpoint[\"train_errors\"]],\n",
    "    y2=[y1 for y1, _ in checkpoint[\"train_errors\"]],\n",
    "    color=\"grey\",\n",
    "    label=\"min-max\",\n",
    "    alpha=0.7,\n",
    ")\n",
    "ax.plot(x_range, checkpoint[\"train_losses\"], \"k-\", label=\"avg\")\n",
    "_ = ax.legend()\n",
    "\n",
    "print(model.weights.detach().cpu().numpy())"
   ]
  },
  {
   "cell_type": "code",
   "execution_count": 11,
   "id": "89cf42eb-c8c0-4eb3-9e79-43e7f599c28e",
   "metadata": {},
   "outputs": [
    {
     "data": {
      "image/png": "[encoded data removed]",
      "text/plain": [
       "<Figure size 640x480 with 1 Axes>"
      ]
     },
     "metadata": {},
     "output_type": "display_data"
    },
    {
     "data": {
      "image/png": "[encoded data removed]",
      "text/plain": [
       "<Figure size 640x480 with 1 Axes>"
      ]
     },
     "metadata": {},
     "output_type": "display_data"
    },
    {
     "data": {
      "image/png": "[encoded data removed]",
      "text/plain": [
       "<Figure size 640x480 with 1 Axes>"
      ]
     },
     "metadata": {},
     "output_type": "display_data"
    },
    {
     "data": {
      "image/png": "[encoded data removed]",
      "text/plain": [
       "<Figure size 640x480 with 1 Axes>"
      ]
     },
     "metadata": {},
     "output_type": "display_data"
    }
   ],
   "source": [
    "# Compare learning to \"canonical\" ACES coefficients from\n",
    "# https://knarkowicz.wordpress.com/2016/01/06/aces-filmic-tone-mapping-curve/\n",
    "params = [\"a\", \"b\", \"d\", \"e\"]\n",
    "canonical_values = dict(zip(params, [2.51, 0.03, 0.59, 0.14]))\n",
    "\n",
    "learned_params = {p: [] for p in params}\n",
    "num_epochs = 245\n",
    "for epoch in range(num_epochs):\n",
    "    model.load_state_dict(torch.load(checkpoint_file_path(epoch), weights_only=False)[\"state_dict\"])\n",
    "    for p, value in zip(params, model.weights.detach().cpu().numpy(), strict=True):\n",
    "        learned_params[p].append(value)\n",
    "\n",
    "x_values = list(range(num_epochs))\n",
    "for param, learned_values in learned_params.items():\n",
    "    fig, ax = plt.subplots()\n",
    "    ax.set_xlabel(\"Epochs\")\n",
    "    ax.set_ylabel(f\"Value of parameter {param}\")\n",
    "    ax.plot(x_values, learned_values, \"b-\", label=\"learned values\")\n",
    "    ax.plot(x_values, [canonical_values[param] for _ in x_values], \"k--\", label=\"canonical value\")\n",
    "    ax.legend()"
   ]
  },
  {
   "cell_type": "code",
   "execution_count": 15,
   "id": "e15a2458-a5c0-44ef-9a77-384396f3cef9",
   "metadata": {},
   "outputs": [
    {
     "data": {
      "text/plain": [
       "<matplotlib.legend.Legend at 0x7d861cb523c0>"
      ]
     },
     "execution_count": 15,
     "metadata": {},
     "output_type": "execute_result"
    },
    {
     "data": {
      "image/png": "[encoded data removed]",
      "text/plain": [
       "<Figure size 1000x600 with 1 Axes>"
      ]
     },
     "metadata": {},
     "output_type": "display_data"
    }
   ],
   "source": [
    "epoch_to_use = 245\n",
    "model.load_state_dict(torch.load(checkpoint_file_path(epoch_to_use), weights_only=False)[\"state_dict\"])\n",
    "a, b, d, e = model.weights.detach().cpu().numpy()\n",
    "ca, cb, cd, ce = list(canonical_values.values())\n",
    "\n",
    "x_range = np.logspace(-2, 2, num=100, base=10)\n",
    "fig, ax = plt.subplots(1, 1, figsize=(10,6))\n",
    "ax.set_xlabel(\"Input value\")\n",
    "ax.set_xscale(\"log\")\n",
    "ax.set_ylabel(\"ACES mapping\")\n",
    "ax.plot(x_range, aces(x_range, a, b, a, d, e), \"b-\", label=\"learned\")\n",
    "ax.plot(x_range, aces(x_range, ca, cb, ca, cd, ce), \"k--\", label=\"canonical\")\n",
    "ax.legend()"
   ]
  },
  {
   "cell_type": "code",
   "execution_count": null,
   "id": "f8b36f2a-26fe-4415-81dd-95ed7893aba1",
   "metadata": {},
   "outputs": [],
   "source": []
  }
 ],
 "metadata": {
  "kernelspec": {
   "display_name": "Python 3 (ipykernel)",
   "language": "python",
   "name": "python3"
  },
  "language_info": {
   "codemirror_mode": {
    "name": "ipython",
    "version": 3
   },
   "file_extension": ".py",
   "mimetype": "text/x-python",
   "name": "python",
   "nbconvert_exporter": "python",
   "pygments_lexer": "ipython3",
   "version": "3.12.3"
  }
 },
 "nbformat": 4,
 "nbformat_minor": 5
}
