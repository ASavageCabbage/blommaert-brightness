{
 "cells": [
  {
   "cell_type": "code",
   "execution_count": 4,
   "id": "e0f6aefc-9274-4626-bc9f-d1021fa11217",
   "metadata": {},
   "outputs": [
    {
     "name": "stdout",
     "output_type": "stream",
     "text": [
      "cadik/tonemapped_images/indoor/indoor.hdr\n",
      "{\n",
      "  \"Orientation\": 1,\n",
      "  \"hdr:exposure\": 32.548484802246094,\n",
      "  \"oiio:ColorSpace\": \"lin_srgb\"\n",
      "}\n",
      "\n",
      "cadik/tonemapped_images/night/night.hdr\n",
      "{\n",
      "  \"Orientation\": 1,\n",
      "  \"hdr:exposure\": 868.9479370117188,\n",
      "  \"oiio:ColorSpace\": \"lin_srgb\"\n",
      "}\n",
      "\n",
      "cadik/tonemapped_images/outdoor/outdoor.hdr\n",
      "{\n",
      "  \"Orientation\": 1,\n",
      "  \"hdr:exposure\": 0.19682371616363525,\n",
      "  \"oiio:ColorSpace\": \"lin_srgb\"\n",
      "}\n",
      "\n"
     ]
    }
   ],
   "source": [
    "import json\n",
    "from pathlib import Path\n",
    "\n",
    "# Can't get this package from pip unfortunately\n",
    "# If you have Anaconda, use `conda install -c conda-forge py-openimageio`\n",
    "import OpenImageIO as oiio\n",
    "\n",
    "\n",
    "IMAGE_DIR = Path(\"cadik\")\n",
    "\n",
    "for img_path in IMAGE_DIR.rglob(\"*\"):\n",
    "    if not img_path.suffix in [\".exr\", \".hdr\"]:\n",
    "        continue\n",
    "    img = oiio.ImageInput.open(str(img_path))\n",
    "    assert img\n",
    "    extra_attribs_dict = {x.name: x.value for x in img.spec().extra_attribs}\n",
    "    print(img_path)\n",
    "    print(json.dumps(extra_attribs_dict, indent=2, sort_keys=True))\n",
    "    print(\"\")"
   ]
  },
  {
   "cell_type": "code",
   "execution_count": null,
   "id": "87aeb43b-c610-42d6-877b-307a86503b7f",
   "metadata": {},
   "outputs": [],
   "source": []
  }
 ],
 "metadata": {
  "kernelspec": {
   "display_name": "Python 3 (ipykernel)",
   "language": "python",
   "name": "python3"
  },
  "language_info": {
   "codemirror_mode": {
    "name": "ipython",
    "version": 3
   },
   "file_extension": ".py",
   "mimetype": "text/x-python",
   "name": "python",
   "nbconvert_exporter": "python",
   "pygments_lexer": "ipython3",
   "version": "3.12.7"
  }
 },
 "nbformat": 4,
 "nbformat_minor": 5
}
