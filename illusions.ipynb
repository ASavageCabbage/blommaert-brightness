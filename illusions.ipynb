{
 "cells": [
  {
   "cell_type": "code",
   "execution_count": 1,
   "id": "0a841bba-c771-4182-9e30-fde047eac601",
   "metadata": {},
   "outputs": [],
   "source": [
    "import os\n",
    "\n",
    "from brightness import dino\n",
    "\n",
    "# Set constants here\n",
    "A = 1\n",
    "B = 1\n",
    "C = 1\n",
    "D = 1\n",
    "\n",
    "# Output directory (_output is ignored by git)\n",
    "OUTPUT_DIR = \"_output\"\n",
    "if not os.path.isdir(OUTPUT_DIR):\n",
    "    os.makedirs(OUTPUT_DIR)\n",
    "    print(\"Created output directory:\", OUTPUT_DIR)\n",
    "\n",
    "def brightness_model(L):\n",
    "    return dino.dn_brightness_model(\n",
    "        L, min_scale=1, w=0.85, a=A, b=B, c=C, d=D\n",
    "    )\n",
    "\n",
    "def file_to_luminance(file_path):\n",
    "    image = dino.read_image(file_path)\n",
    "    X, Y, Z = dino.rgb_to_xyz(image)\n",
    "    luminance, x_chroma, y_chroma = dino.xyz_to_lxy(X, Y, Z)\n",
    "    return luminance"
   ]
  },
  {
   "cell_type": "code",
   "execution_count": 2,
   "id": "c566fbe2-87fe-4d33-81f5-20e09092eb3a",
   "metadata": {},
   "outputs": [
    {
     "name": "stdout",
     "output_type": "stream",
     "text": [
      "Exported brightness response for constant_bars.png\n",
      "Exported brightness response for macbeths.png\n",
      "Exported brightness response for mondrian.png\n",
      "Exported brightness response for ramp_bar.png\n",
      "Exported brightness response for ramp_squares.png\n"
     ]
    }
   ],
   "source": [
    "from brightness import plotting\n",
    "\n",
    "## Apply model to all illusions\n",
    "\n",
    "IMAGE_DIR = \"images\"\n",
    "ILLUSION_IMAGES = [\n",
    "    \"constant_bars.png\",\n",
    "    \"macbeths.png\",\n",
    "    \"mondrian.png\",\n",
    "    \"ramp_bar.png\",\n",
    "    \"ramp_squares.png\",\n",
    "]\n",
    "\n",
    "for image in ILLUSION_IMAGES:\n",
    "    luminance = file_to_luminance(os.path.join(IMAGE_DIR, image))\n",
    "    brightness = brightness_model(luminance)\n",
    "    filename = f\"{os.path.splitext(image)[0]}_a={A}_b={B}_c={C}_d={D}.html\"\n",
    "    _ = plotting.image_height_plot(\n",
    "        brightness,\n",
    "        output_path=os.path.join(OUTPUT_DIR, filename),\n",
    "        display=False,\n",
    "    )\n",
    "    print(\"Exported brightness response for\", image)"
   ]
  },
  {
   "cell_type": "code",
   "execution_count": null,
   "id": "c0052a24-fece-4f07-9ad2-73039e0a3fac",
   "metadata": {},
   "outputs": [],
   "source": []
  }
 ],
 "metadata": {
  "kernelspec": {
   "display_name": "Python 3 (ipykernel)",
   "language": "python",
   "name": "python3"
  },
  "language_info": {
   "codemirror_mode": {
    "name": "ipython",
    "version": 3
   },
   "file_extension": ".py",
   "mimetype": "text/x-python",
   "name": "python",
   "nbconvert_exporter": "python",
   "pygments_lexer": "ipython3",
   "version": "3.12.3"
  }
 },
 "nbformat": 4,
 "nbformat_minor": 5
}
