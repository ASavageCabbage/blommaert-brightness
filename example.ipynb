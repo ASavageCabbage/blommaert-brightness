{
 "cells": [
  {
   "cell_type": "code",
   "execution_count": null,
   "id": "a0f4defa-a1db-4a64-b135-a2a1e7a6582f",
   "metadata": {},
   "outputs": [],
   "source": [
    "from brightness.dino import *\n",
    "from brightness.plotting import *\n",
    "from brightness.tone_mappers.reinhard import reinhard_tone_map\n",
    "\n",
    "file_path = \"images/HDRMark.exr\"\n",
    "image = read_image(file_path)\n",
    "\n",
    "# Convert to XYZ and compute luminance and chromaticities\n",
    "X, Y, Z = rgb_to_xyz(image)\n",
    "luminance, x_chroma, y_chroma = xyz_to_lxy(X, Y, Z)\n",
    "new_luminance = reinhard_tone_map(luminance)\n",
    "reinhard_rgb = lxy_to_rgb(new_luminance, x_chroma, y_chroma)\n",
    "save_png(\"_output/reinhard.png\", reinhard_rgb)\n",
    "plt.imshow(reinhard_rgb)\n",
    "plt.show()\n",
    "print(\"Output saved as reinhard.png\")\n",
    "\n",
    "# Define scales for Gaussian blurring\n",
    "scales = [1, 2, 4, 8, 16, 32, 64, 128, 256, 512]\n",
    "\n",
    "# Compute weighted sum of ratios\n",
    "scaled_luminance = dn_brightness_model(luminance, scales) / 10.0\n",
    "\n",
    "# Ensure scaled_luminance is 2D\n",
    "scaled_luminance = np.squeeze(scaled_luminance)\n",
    "if scaled_luminance.ndim != 2:\n",
    "    raise ValueError(\n",
    "        f\"Expected 2D array for scaled_luminance, got shape {scaled_luminance.shape}\"\n",
    "    )\n",
    "\n",
    "# Display pseudocolor visualization on screen\n",
    "display_pseudocolor(scaled_luminance, \"Pseudocolor Visualization (HSV)\")\n",
    "\n",
    "# Display scaled luminance as height plot\n",
    "image_height_plot(scaled_luminance)\n",
    "\n",
    "# Save pseudocolor PNG\n",
    "save_pseudocolor_png(\"_output/output_pseudocolor.png\", scaled_luminance)\n",
    "print(\"Pseudocolor PNG saved as output_pseudocolor.png\")\n",
    "\n",
    "# Convert back to RGB\n",
    "rgb_output = lxy_to_rgb(scaled_luminance, x_chroma, y_chroma)\n",
    "\n",
    "# Save to EXR\n",
    "save_exr(\"_output/output.exr\", rgb_output)\n",
    "print(\"Output saved as output.exr\")\n",
    "\n",
    "# Save scaled luminance as PNG\n",
    "save_png(\"_output/output.png\", scaled_luminance)\n",
    "print(\"Output saved as output.png\")"
   ]
  }
 ],
 "metadata": {
  "kernelspec": {
   "display_name": "Python 3 (ipykernel)",
   "language": "python",
   "name": "python3"
  },
  "language_info": {
   "codemirror_mode": {
    "name": "ipython",
    "version": 3
   },
   "file_extension": ".py",
   "mimetype": "text/x-python",
   "name": "python",
   "nbconvert_exporter": "python",
   "pygments_lexer": "ipython3",
   "version": "3.12.7"
  }
 },
 "nbformat": 4,
 "nbformat_minor": 5
}
