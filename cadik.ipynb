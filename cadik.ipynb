{
 "cells": [
  {
   "cell_type": "code",
   "execution_count": 1,
   "id": "30771742-86c1-4ae6-81b0-4439025eaebf",
   "metadata": {},
   "outputs": [],
   "source": [
    "from src import dino\n",
    "\n",
    "# Set constants here\n",
    "W = 0.9\n",
    "A = 1\n",
    "B = 1\n",
    "C = 1\n",
    "D = 1\n",
    "SCALE_NORMALIZED = True\n",
    "\n",
    "def file_to_brightness(file_path, resize_width=None, resize_height=None):\n",
    "    image = dino.read_image(file_path)\n",
    "    image = dino.resize_image(image, resize_width=resize_width, resize_height=resize_height)\n",
    "    X, Y, Z = dino.rgb_to_xyz(image)\n",
    "    L, _, _ = dino.xyz_to_lxy(X, Y, Z)\n",
    "    return dino.dn_brightness_model(\n",
    "        L,\n",
    "        min_scale=1,\n",
    "        w=W,\n",
    "        a=A,\n",
    "        b=B,\n",
    "        c=C,\n",
    "        d=D,\n",
    "        scale_normalized_constants=SCALE_NORMALIZED,\n",
    "    )"
   ]
  },
  {
   "cell_type": "code",
   "execution_count": 2,
   "id": "f4b95c3a-4529-4266-8c06-29e43cf3c65a",
   "metadata": {},
   "outputs": [
    {
     "name": "stdout",
     "output_type": "stream",
     "text": [
      "Calculating brightness response for indoor HDR image\n",
      "Calculating brightness response for indoor tonemapped images\n"
     ]
    },
    {
     "data": {
      "application/vnd.jupyter.widget-view+json": {
       "model_id": "8f3f3b62d4e446ecbd23cac07cf73b52",
       "version_major": 2,
       "version_minor": 0
      },
      "text/plain": [
       "indoor:   0%|          | 0/14 [00:00<?, ?it/s]"
      ]
     },
     "metadata": {},
     "output_type": "display_data"
    },
    {
     "name": "stdout",
     "output_type": "stream",
     "text": [
      "Calculating brightness response for outdoor HDR image\n",
      "Calculating brightness response for outdoor tonemapped images\n"
     ]
    },
    {
     "data": {
      "application/vnd.jupyter.widget-view+json": {
       "model_id": "d70e374e7a2d405095c1540e73b21cf4",
       "version_major": 2,
       "version_minor": 0
      },
      "text/plain": [
       "outdoor:   0%|          | 0/14 [00:00<?, ?it/s]"
      ]
     },
     "metadata": {},
     "output_type": "display_data"
    },
    {
     "name": "stdout",
     "output_type": "stream",
     "text": [
      "Calculating brightness response for night HDR image\n",
      "Calculating brightness response for night tonemapped images\n"
     ]
    },
    {
     "data": {
      "application/vnd.jupyter.widget-view+json": {
       "model_id": "d60d84117b7d48318657c3014f9bc647",
       "version_major": 2,
       "version_minor": 0
      },
      "text/plain": [
       "night:   0%|          | 0/14 [00:00<?, ?it/s]"
      ]
     },
     "metadata": {},
     "output_type": "display_data"
    },
    {
     "name": "stdout",
     "output_type": "stream",
     "text": [
      "{\n",
      "  \"indoor\": {\n",
      "    \"ashikhmin02\": 0.18544176154276887,\n",
      "    \"chiu93\": 0.19343049822612746,\n",
      "    \"choudhury03\": 0.1838786477266023,\n",
      "    \"clip\": 0.15538841739601442,\n",
      "    \"drago03\": 0.17065147400518227,\n",
      "    \"durand02\": 0.1421435665610028,\n",
      "    \"fattal02\": 0.14932233091520414,\n",
      "    \"lcis99\": 0.17897839043763883,\n",
      "    \"pattanaik02\": 0.18531012243974757,\n",
      "    \"reinhard02\": 0.15919217972817024,\n",
      "    \"schlick94\": 0.144084640602805,\n",
      "    \"tumblin99\": 0.15585090439975832,\n",
      "    \"ward94\": 0.14660599830019852,\n",
      "    \"ward97\": 0.15789610838652113\n",
      "  },\n",
      "  \"outdoor\": {\n",
      "    \"ashikhmin02\": 0.12276951412596043,\n",
      "    \"chiu93\": 0.13877702356196078,\n",
      "    \"choudhury03\": 0.1220084416901702,\n",
      "    \"clip\": 0.09926260159761498,\n",
      "    \"drago03\": 0.10883915111350886,\n",
      "    \"durand02\": 0.08975651789802272,\n",
      "    \"fattal02\": 0.12866391474118397,\n",
      "    \"lcis99\": 0.1187339419373258,\n",
      "    \"pattanaik02\": 0.13420658732749538,\n",
      "    \"reinhard02\": 0.09840590145292955,\n",
      "    \"schlick94\": 0.09868807693113638,\n",
      "    \"tumblin99\": 0.09620281540771668,\n",
      "    \"ward94\": 0.09023679454873343,\n",
      "    \"ward97\": 0.09956793003535072\n",
      "  },\n",
      "  \"night\": {\n",
      "    \"ashikhmin02\": 0.06220069402122251,\n",
      "    \"chiu93\": 0.07130815750050325,\n",
      "    \"choudhury03\": 0.059693271422595236,\n",
      "    \"clip\": 0.04748270401906101,\n",
      "    \"drago03\": 0.05845660195173219,\n",
      "    \"durand02\": 0.04751502923907003,\n",
      "    \"fattal02\": 0.06427729545506057,\n",
      "    \"lcis99\": 0.0586885070619112,\n",
      "    \"pattanaik02\": 0.049437769053356916,\n",
      "    \"reinhard02\": 0.046725089353986844,\n",
      "    \"schlick94\": 0.043582911727848526,\n",
      "    \"tumblin99\": 0.055012981181115,\n",
      "    \"ward94\": 0.047051761102051476,\n",
      "    \"ward97\": 0.05308657884737861\n",
      "  }\n",
      "}\n"
     ]
    }
   ],
   "source": [
    "import json\n",
    "from pathlib import Path\n",
    "\n",
    "import numpy as np\n",
    "from tqdm.auto import tqdm\n",
    "\n",
    "def MSE(img1, img2):\n",
    "    assert img1.shape == img2.shape, f\"{img1.shape} != {img2.shape}\"\n",
    "    return np.mean((img1 - img2) ** 2)\n",
    "\n",
    "tonemapper_brightness_losses = {}\n",
    "for image_name, (width, height) in [\n",
    "    (\"indoor\", (600, 450)),\n",
    "    (\"outdoor\", (600, 900)),\n",
    "    (\"night\", (800, 533)),\n",
    "]:\n",
    "    directory = Path(\"cadik/tonemapped_images\") / image_name\n",
    "    hdr_brightness = None\n",
    "    tonemapper_losses = {}\n",
    "\n",
    "    print(f\"Calculating brightness response for {image_name} HDR image\")\n",
    "    for file in directory.iterdir():\n",
    "        if file.suffix == \".hdr\":\n",
    "            hdr_brightness = file_to_brightness(str(file), resize_width=width, resize_height=height)\n",
    "            break\n",
    "    print(f\"Calculating brightness response for {image_name} tonemapped images\")\n",
    "    for file in tqdm([f for f in directory.iterdir() if f.suffix == \".png\"], desc=image_name):\n",
    "        tonemapped_brightness = file_to_brightness(str(file), resize_width=width, resize_height=height)\n",
    "        tonemapper_losses[file.stem.lower()] = MSE(tonemapped_brightness, hdr_brightness)\n",
    "    tonemapper_brightness_losses[image_name] = tonemapper_losses\n",
    "\n",
    "print(json.dumps(tonemapper_brightness_losses, indent=2))"
   ]
  },
  {
   "cell_type": "code",
   "execution_count": 3,
   "id": "02dae91d-c415-4ebe-9f96-040ab38af404",
   "metadata": {},
   "outputs": [],
   "source": [
    "import pandas as pd\n",
    "\n",
    "ranking_df = pd.read_csv(\"cadik/ranking_evaluation.csv\", header=[0,1])\n",
    "rating_df = pd.read_csv(\"cadik/rating_evaluation.csv\", header=[0,1])"
   ]
  },
  {
   "cell_type": "code",
   "execution_count": 4,
   "id": "28f09f50-c1dc-4691-86b9-2e4fd01a8d59",
   "metadata": {},
   "outputs": [
    {
     "name": "stdout",
     "output_type": "stream",
     "text": [
      "indoor\n",
      "outdoor\n",
      "night\n"
     ]
    }
   ],
   "source": [
    "tm_ranking_dfs = {}\n",
    "\n",
    "for image_name in [\"indoor\", \"outdoor\", \"night\"]:\n",
    "    print(image_name)\n",
    "\n",
    "    headers = [\"dino\"]\n",
    "    # print(\"tone mappers ranked by brightness model:\")\n",
    "    dino = []\n",
    "    # Ascending order, lower loss is better\n",
    "    for i, (tm, _) in enumerate(sorted(tonemapper_brightness_losses[image_name].items(), key=lambda x: x[1])):\n",
    "        # print(f\"{i+1}. {tm}\")\n",
    "        dino.append(tm)\n",
    "\n",
    "    cols = [dino]\n",
    "    for df, name in [(ranking_df, \"ranking\"), (rating_df, \"rating\")]:\n",
    "        for header in df[image_name].columns[1:]:\n",
    "            # print(f\"tone mappers ranked by Cadik {header} {name}:\")\n",
    "            ranking = []\n",
    "            # Descending order, higher ranking is better\n",
    "            for i, tm in enumerate(df.sort_values((image_name, header), ascending=False)[image_name][\"tm\"].to_list()):\n",
    "                # print(f\"{i+1}. {tm}\")\n",
    "                ranking.append(tm)\n",
    "            cols.append(ranking)\n",
    "            headers.append(f\"{header}_{name}\")\n",
    "\n",
    "    tm_ranking_df = pd.DataFrame({h: col for h, col in zip(headers, cols, strict=True)})\n",
    "    tm_ranking_df.to_csv(f\"cadik/{image_name}_tm_ranking.csv\")\n",
    "    tm_ranking_dfs[image_name] = tm_ranking_df"
   ]
  },
  {
   "cell_type": "code",
   "execution_count": 5,
   "id": "152f80f2-dbf4-40ea-a7dc-eab94da30362",
   "metadata": {},
   "outputs": [
    {
     "name": "stdout",
     "output_type": "stream",
     "text": [
      "           dino brightness_ranking contrast_ranking details_ranking  \\\n",
      "0      durand02          tumblin99       reinhard02     pattanaik02   \n",
      "1     schlick94        pattanaik02           ward97      reinhard02   \n",
      "2        ward94            drago03          drago03      ashikmin02   \n",
      "3      fattal02         reinhard02        tumblin99          ward97   \n",
      "4          clip               clip      pattanaik02            clip   \n",
      "5     tumblin99             ward97           ward94       tumblin99   \n",
      "6        ward97           durand02       ashikmin02        fattal02   \n",
      "7    reinhard02         ashikmin02             clip     choudhury03   \n",
      "8       drago03             ward94        schlick94         drago03   \n",
      "9        lcis99        choudhury03           lcis99        durand02   \n",
      "10  choudhury03             lcis99      choudhury03       schlick94   \n",
      "11  pattanaik02          schlick94         fattal02          lcis99   \n",
      "12  ashikhmin02           fattal02         durand02          ward94   \n",
      "13       chiu93             chiu93           chiu93          chiu93   \n",
      "\n",
      "   colours_ranking quality_ranking brightness_rating contrast_rating  \\\n",
      "0       reinhard02      reinhard02        reinhard02      reinhard02   \n",
      "1             clip          ward97            lcis99          lcis99   \n",
      "2        tumblin99       tumblin99            ward97          ward97   \n",
      "3           ward97          ward94       choudhury03          ward94   \n",
      "4           ward94       schlick94         tumblin99       tumblin99   \n",
      "5          drago03         drago03       pattanaik02     choudhury03   \n",
      "6      pattanaik02            clip           drago03       schlick94   \n",
      "7       ashikmin02      ashikmin02        ashikmin02     pattanaik02   \n",
      "8        schlick94     pattanaik02            ward94            clip   \n",
      "9      choudhury03        fattal02         schlick94      ashikmin02   \n",
      "10        fattal02          lcis99              clip         drago03   \n",
      "11        durand02        durand02          fattal02        fattal02   \n",
      "12          lcis99     choudhury03          durand02          chiu93   \n",
      "13          chiu93          chiu93            chiu93        durand02   \n",
      "\n",
      "   details_rating colours_rating quality_rating  \n",
      "0      reinhard02     reinhard02     reinhard02  \n",
      "1          lcis99      tumblin99         lcis99  \n",
      "2      ashikmin02         ward97         ward97  \n",
      "3     choudhury03         ward94    choudhury03  \n",
      "4          ward97         lcis99      schlick94  \n",
      "5     pattanaik02      schlick94      tumblin99  \n",
      "6        fattal02           clip         ward94  \n",
      "7       tumblin99    pattanaik02    pattanaik02  \n",
      "8          ward94    choudhury03     ashikmin02  \n",
      "9       schlick94        drago03        drago03  \n",
      "10        drago03     ashikmin02           clip  \n",
      "11       durand02         chiu93       fattal02  \n",
      "12           clip       durand02       durand02  \n",
      "13         chiu93       fattal02         chiu93  \n"
     ]
    }
   ],
   "source": [
    "print(tm_ranking_dfs[\"indoor\"])"
   ]
  },
  {
   "cell_type": "code",
   "execution_count": null,
   "id": "807fd214-082c-4303-a0a4-2a7a0c16b3bd",
   "metadata": {},
   "outputs": [],
   "source": []
  }
 ],
 "metadata": {
  "kernelspec": {
   "display_name": "Python 3 (ipykernel)",
   "language": "python",
   "name": "python3"
  },
  "language_info": {
   "codemirror_mode": {
    "name": "ipython",
    "version": 3
   },
   "file_extension": ".py",
   "mimetype": "text/x-python",
   "name": "python",
   "nbconvert_exporter": "python",
   "pygments_lexer": "ipython3",
   "version": "3.12.7"
  }
 },
 "nbformat": 4,
 "nbformat_minor": 5
}
