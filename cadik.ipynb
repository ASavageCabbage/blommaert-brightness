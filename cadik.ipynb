{
 "cells": [
  {
   "cell_type": "code",
   "execution_count": 1,
   "id": "30771742-86c1-4ae6-81b0-4439025eaebf",
   "metadata": {},
   "outputs": [],
   "source": [
    "from brightness import dino\n",
    "\n",
    "# Set constants here\n",
    "W = 0.9\n",
    "A = 1\n",
    "B = 1\n",
    "C = 1\n",
    "D = 1\n",
    "SCALE_NORMALIZED = True\n",
    "\n",
    "def file_to_brightness(file_path, resize_width=None, resize_height=None):\n",
    "    image = dino.read_image(file_path, resize_width=resize_width, resize_height=resize_height)\n",
    "    X, Y, Z = dino.rgb_to_xyz(image)\n",
    "    L, _, _ = dino.xyz_to_lxy(X, Y, Z)\n",
    "    return dino.dn_brightness_model(\n",
    "        L,\n",
    "        min_scale=1,\n",
    "        w=W,\n",
    "        a=A,\n",
    "        b=B,\n",
    "        c=C,\n",
    "        d=D,\n",
    "        scale_normalized_constants=SCALE_NORMALIZED,\n",
    "    )"
   ]
  },
  {
   "cell_type": "code",
   "execution_count": 2,
   "id": "f4b95c3a-4529-4266-8c06-29e43cf3c65a",
   "metadata": {},
   "outputs": [
    {
     "name": "stdout",
     "output_type": "stream",
     "text": [
      "Calculating brightness response for indoor HDR image\n",
      "Calculating brightness response for indoor tonemapped images\n"
     ]
    },
    {
     "data": {
      "application/vnd.jupyter.widget-view+json": {
       "model_id": "5712f080bb1d4153a9f65cdedc9f7922",
       "version_major": 2,
       "version_minor": 0
      },
      "text/plain": [
       "indoor:   0%|          | 0/14 [00:00<?, ?it/s]"
      ]
     },
     "metadata": {},
     "output_type": "display_data"
    },
    {
     "name": "stdout",
     "output_type": "stream",
     "text": [
      "Calculating brightness response for outdoor HDR image\n",
      "Calculating brightness response for outdoor tonemapped images\n"
     ]
    },
    {
     "data": {
      "application/vnd.jupyter.widget-view+json": {
       "model_id": "2fdb3311d6a64289b597a163208efb0f",
       "version_major": 2,
       "version_minor": 0
      },
      "text/plain": [
       "outdoor:   0%|          | 0/14 [00:00<?, ?it/s]"
      ]
     },
     "metadata": {},
     "output_type": "display_data"
    },
    {
     "name": "stdout",
     "output_type": "stream",
     "text": [
      "Calculating brightness response for night HDR image\n",
      "Calculating brightness response for night tonemapped images\n"
     ]
    },
    {
     "data": {
      "application/vnd.jupyter.widget-view+json": {
       "model_id": "2b64d6154eb14425b8eafaf296a4f5a6",
       "version_major": 2,
       "version_minor": 0
      },
      "text/plain": [
       "night:   0%|          | 0/14 [00:00<?, ?it/s]"
      ]
     },
     "metadata": {},
     "output_type": "display_data"
    },
    {
     "name": "stdout",
     "output_type": "stream",
     "text": [
      "{\n",
      "  \"indoor\": {\n",
      "    \"ashikhmin02\": 0.10563428351082774,\n",
      "    \"chiu93\": 0.1971990017861757,\n",
      "    \"choudhury03\": 0.10219508079102245,\n",
      "    \"clip\": 0.04154162973980786,\n",
      "    \"drago03\": 0.06732608658761027,\n",
      "    \"durand02\": 0.011478111996178928,\n",
      "    \"fattal02\": 0.04995707262772405,\n",
      "    \"lcis99\": 0.08330986564306792,\n",
      "    \"pattanaik02\": 0.11292733663626023,\n",
      "    \"reinhard02\": 0.042146602837662105,\n",
      "    \"schlick94\": 0.012432439208294881,\n",
      "    \"tumblin99\": 0.03582096496236,\n",
      "    \"ward94\": 0.019821624943728373,\n",
      "    \"ward97\": 0.04248335541832223\n",
      "  },\n",
      "  \"outdoor\": {\n",
      "    \"ashikhmin02\": 0.06962537315643558,\n",
      "    \"chiu93\": 0.16824147293226002,\n",
      "    \"choudhury03\": 0.06276596457990437,\n",
      "    \"clip\": 0.01815627345674986,\n",
      "    \"drago03\": 0.03197469811894357,\n",
      "    \"durand02\": 0.00234371213670279,\n",
      "    \"fattal02\": 0.08596513789799691,\n",
      "    \"lcis99\": 0.05198362982334359,\n",
      "    \"pattanaik02\": 0.11160359996715354,\n",
      "    \"reinhard02\": 0.017218294842410345,\n",
      "    \"schlick94\": 0.011521334319357797,\n",
      "    \"tumblin99\": 0.014168112438466008,\n",
      "    \"ward94\": 0.002902258660862116,\n",
      "    \"ward97\": 0.03427214905733271\n",
      "  },\n",
      "  \"night\": {\n",
      "    \"ashikhmin02\": 0.04042260357153384,\n",
      "    \"chiu93\": 0.0929030921336672,\n",
      "    \"choudhury03\": 0.031327081270074456,\n",
      "    \"clip\": 0.004610141430590423,\n",
      "    \"drago03\": 0.02903383865245755,\n",
      "    \"durand02\": 0.004653789315661574,\n",
      "    \"fattal02\": 0.05238763374387313,\n",
      "    \"lcis99\": 0.027746311135681472,\n",
      "    \"pattanaik02\": 0.00731017333575442,\n",
      "    \"reinhard02\": 0.01137054778127735,\n",
      "    \"schlick94\": 0.012914592465480965,\n",
      "    \"tumblin99\": 0.014646392242509906,\n",
      "    \"ward94\": 0.004603591724720061,\n",
      "    \"ward97\": 0.01610170860836748\n",
      "  }\n",
      "}\n"
     ]
    }
   ],
   "source": [
    "import json\n",
    "from pathlib import Path\n",
    "\n",
    "import numpy as np\n",
    "from tqdm.auto import tqdm\n",
    "\n",
    "def MSE(img1, img2):\n",
    "    assert img1.shape == img2.shape, f\"{img1.shape} != {img2.shape}\"\n",
    "    return np.mean((img1 - img2) ** 2)\n",
    "\n",
    "tonemapper_brightness_losses = {}\n",
    "for image_name, (width, height) in [\n",
    "    (\"indoor\", (600, 450)),\n",
    "    (\"outdoor\", (600, 900)),\n",
    "    (\"night\", (800, 533)),\n",
    "]:\n",
    "    directory = Path(\"cadik/tonemapped_images\") / image_name\n",
    "    hdr_brightness = None\n",
    "    tonemapper_losses = {}\n",
    "\n",
    "    print(f\"Calculating brightness response for {image_name} HDR image\")\n",
    "    for file in directory.iterdir():\n",
    "        if file.suffix == \".hdr\":\n",
    "            hdr_brightness = file_to_brightness(str(file), resize_width=width, resize_height=height)\n",
    "            break\n",
    "    print(f\"Calculating brightness response for {image_name} tonemapped images\")\n",
    "    for file in tqdm([f for f in directory.iterdir() if f.suffix == \".png\"], desc=image_name):\n",
    "        tonemapped_brightness = file_to_brightness(str(file), resize_width=width, resize_height=height)\n",
    "        tonemapper_losses[file.stem.lower()] = MSE(tonemapped_brightness, hdr_brightness)\n",
    "    tonemapper_brightness_losses[image_name] = tonemapper_losses\n",
    "\n",
    "print(json.dumps(tonemapper_brightness_losses, indent=2))"
   ]
  },
  {
   "cell_type": "code",
   "execution_count": 3,
   "id": "02dae91d-c415-4ebe-9f96-040ab38af404",
   "metadata": {},
   "outputs": [],
   "source": [
    "import pandas as pd\n",
    "\n",
    "ranking_df = pd.read_csv(\"cadik/ranking_evaluation.csv\", header=[0,1])\n",
    "rating_df = pd.read_csv(\"cadik/rating_evaluation.csv\", header=[0,1])"
   ]
  },
  {
   "cell_type": "code",
   "execution_count": 4,
   "id": "28f09f50-c1dc-4691-86b9-2e4fd01a8d59",
   "metadata": {},
   "outputs": [
    {
     "name": "stdout",
     "output_type": "stream",
     "text": [
      "indoor\n",
      "outdoor\n",
      "night\n"
     ]
    }
   ],
   "source": [
    "tm_ranking_dfs = {}\n",
    "\n",
    "for image_name in [\"indoor\", \"outdoor\", \"night\"]:\n",
    "    print(image_name)\n",
    "\n",
    "    headers = [\"dino\"]\n",
    "    # print(\"tone mappers ranked by brightness model:\")\n",
    "    dino = []\n",
    "    # Ascending order, lower loss is better\n",
    "    for i, (tm, _) in enumerate(sorted(tonemapper_brightness_losses[image_name].items(), key=lambda x: x[1])):\n",
    "        # print(f\"{i+1}. {tm}\")\n",
    "        dino.append(tm)\n",
    "\n",
    "    cols = [dino]\n",
    "    for df, name in [(ranking_df, \"ranking\"), (rating_df, \"rating\")]:\n",
    "        for header in df[image_name].columns[1:]:\n",
    "            # print(f\"tone mappers ranked by Cadik {header} {name}:\")\n",
    "            ranking = []\n",
    "            # Descending order, higher ranking is better\n",
    "            for i, tm in enumerate(df.sort_values((image_name, header), ascending=False)[image_name][\"tm\"].to_list()):\n",
    "                # print(f\"{i+1}. {tm}\")\n",
    "                ranking.append(tm)\n",
    "            cols.append(ranking)\n",
    "            headers.append(f\"{header}_{name}\")\n",
    "\n",
    "    tm_ranking_df = pd.DataFrame({h: col for h, col in zip(headers, cols, strict=True)})\n",
    "    tm_ranking_df.to_csv(f\"cadik/{image_name}_tm_ranking.csv\")\n",
    "    tm_ranking_dfs[image_name] = tm_ranking_df"
   ]
  },
  {
   "cell_type": "code",
   "execution_count": 5,
   "id": "152f80f2-dbf4-40ea-a7dc-eab94da30362",
   "metadata": {},
   "outputs": [
    {
     "name": "stdout",
     "output_type": "stream",
     "text": [
      "           dino brightness_ranking contrast_ranking details_ranking  \\\n",
      "0      durand02          tumblin99       reinhard02     pattanaik02   \n",
      "1     schlick94        pattanaik02           ward97      reinhard02   \n",
      "2        ward94            drago03          drago03      ashikmin02   \n",
      "3     tumblin99         reinhard02        tumblin99          ward97   \n",
      "4          clip               clip      pattanaik02            clip   \n",
      "5    reinhard02             ward97           ward94       tumblin99   \n",
      "6        ward97           durand02       ashikmin02        fattal02   \n",
      "7      fattal02         ashikmin02             clip     choudhury03   \n",
      "8       drago03             ward94        schlick94         drago03   \n",
      "9        lcis99        choudhury03           lcis99        durand02   \n",
      "10  choudhury03             lcis99      choudhury03       schlick94   \n",
      "11  ashikhmin02          schlick94         fattal02          lcis99   \n",
      "12  pattanaik02           fattal02         durand02          ward94   \n",
      "13       chiu93             chiu93           chiu93          chiu93   \n",
      "\n",
      "   colours_ranking quality_ranking brightness_rating contrast_rating  \\\n",
      "0       reinhard02      reinhard02        reinhard02      reinhard02   \n",
      "1             clip          ward97            lcis99          lcis99   \n",
      "2        tumblin99       tumblin99            ward97          ward97   \n",
      "3           ward97          ward94       choudhury03          ward94   \n",
      "4           ward94       schlick94         tumblin99       tumblin99   \n",
      "5          drago03         drago03       pattanaik02     choudhury03   \n",
      "6      pattanaik02            clip           drago03       schlick94   \n",
      "7       ashikmin02      ashikmin02        ashikmin02     pattanaik02   \n",
      "8        schlick94     pattanaik02            ward94            clip   \n",
      "9      choudhury03        fattal02         schlick94      ashikmin02   \n",
      "10        fattal02          lcis99              clip         drago03   \n",
      "11        durand02        durand02          fattal02        fattal02   \n",
      "12          lcis99     choudhury03          durand02          chiu93   \n",
      "13          chiu93          chiu93            chiu93        durand02   \n",
      "\n",
      "   details_rating colours_rating quality_rating  \n",
      "0      reinhard02     reinhard02     reinhard02  \n",
      "1          lcis99      tumblin99         lcis99  \n",
      "2      ashikmin02         ward97         ward97  \n",
      "3     choudhury03         ward94    choudhury03  \n",
      "4          ward97         lcis99      schlick94  \n",
      "5     pattanaik02      schlick94      tumblin99  \n",
      "6        fattal02           clip         ward94  \n",
      "7       tumblin99    pattanaik02    pattanaik02  \n",
      "8          ward94    choudhury03     ashikmin02  \n",
      "9       schlick94        drago03        drago03  \n",
      "10        drago03     ashikmin02           clip  \n",
      "11       durand02         chiu93       fattal02  \n",
      "12           clip       durand02       durand02  \n",
      "13         chiu93       fattal02         chiu93  \n"
     ]
    }
   ],
   "source": [
    "print(tm_ranking_dfs[\"indoor\"])"
   ]
  },
  {
   "cell_type": "code",
   "execution_count": null,
   "id": "807fd214-082c-4303-a0a4-2a7a0c16b3bd",
   "metadata": {},
   "outputs": [],
   "source": []
  }
 ],
 "metadata": {
  "kernelspec": {
   "display_name": "Python 3 (ipykernel)",
   "language": "python",
   "name": "python3"
  },
  "language_info": {
   "codemirror_mode": {
    "name": "ipython",
    "version": 3
   },
   "file_extension": ".py",
   "mimetype": "text/x-python",
   "name": "python",
   "nbconvert_exporter": "python",
   "pygments_lexer": "ipython3",
   "version": "3.12.7"
  }
 },
 "nbformat": 4,
 "nbformat_minor": 5
}
