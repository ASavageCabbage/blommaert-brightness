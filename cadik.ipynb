{
 "cells": [
  {
   "cell_type": "code",
   "execution_count": 1,
   "id": "30771742-86c1-4ae6-81b0-4439025eaebf",
   "metadata": {},
   "outputs": [],
   "source": [
    "from brightness import dino\n",
    "\n",
    "# Set constants here\n",
    "W = 0.9\n",
    "A = 1\n",
    "B = 1\n",
    "C = 1\n",
    "D = 1\n",
    "SCALE_NORMALIZED = True\n",
    "\n",
    "def file_to_brightness(file_path, resize_width=None, resize_height=None):\n",
    "    image = dino.read_image(file_path, resize_width=resize_width, resize_height=resize_height)\n",
    "    X, Y, Z = dino.rgb_to_xyz(image)\n",
    "    L, _, _ = dino.xyz_to_lxy(X, Y, Z)\n",
    "    return dino.dn_brightness_model(\n",
    "        L,\n",
    "        min_scale=1,\n",
    "        w=W,\n",
    "        a=A,\n",
    "        b=B,\n",
    "        c=C,\n",
    "        d=D,\n",
    "        scale_normalized_constants=SCALE_NORMALIZED,\n",
    "    )"
   ]
  },
  {
   "cell_type": "code",
   "execution_count": null,
   "id": "f4b95c3a-4529-4266-8c06-29e43cf3c65a",
   "metadata": {},
   "outputs": [
    {
     "name": "stdout",
     "output_type": "stream",
     "text": [
      "Calculating brightness response for indoor HDR image\n",
      "Calculating brightness response for indoor tonemapped images\n"
     ]
    },
    {
     "data": {
      "application/vnd.jupyter.widget-view+json": {
       "model_id": "4b49e349ec3d46b5979f81388928950f",
       "version_major": 2,
       "version_minor": 0
      },
      "text/plain": [
       "indoor:   0%|          | 0/14 [00:00<?, ?it/s]"
      ]
     },
     "metadata": {},
     "output_type": "display_data"
    },
    {
     "name": "stdout",
     "output_type": "stream",
     "text": [
      "Calculating brightness response for outdoor HDR image\n",
      "Calculating brightness response for outdoor tonemapped images\n"
     ]
    },
    {
     "data": {
      "application/vnd.jupyter.widget-view+json": {
       "model_id": "ecd62c76fed74edfb966bac87c89a717",
       "version_major": 2,
       "version_minor": 0
      },
      "text/plain": [
       "outdoor:   0%|          | 0/14 [00:00<?, ?it/s]"
      ]
     },
     "metadata": {},
     "output_type": "display_data"
    },
    {
     "name": "stdout",
     "output_type": "stream",
     "text": [
      "Calculating brightness response for night HDR image\n",
      "Calculating brightness response for night tonemapped images\n"
     ]
    },
    {
     "data": {
      "application/vnd.jupyter.widget-view+json": {
       "model_id": "41bdd46dc386496ab500dbb2f5794193",
       "version_major": 2,
       "version_minor": 0
      },
      "text/plain": [
       "night:   0%|          | 0/14 [00:00<?, ?it/s]"
      ]
     },
     "metadata": {},
     "output_type": "display_data"
    }
   ],
   "source": [
    "import json\n",
    "from pathlib import Path\n",
    "\n",
    "import numpy as np\n",
    "from tqdm.auto import tqdm\n",
    "\n",
    "def MSE(img1, img2):\n",
    "    assert img1.shape == img2.shape, f\"{img1.shape} != {img2.shape}\"\n",
    "    return np.mean((img1 - img2) ** 2)\n",
    "\n",
    "tonemapper_brightness_losses = {}\n",
    "for image_name, (width, height) in [\n",
    "    (\"indoor\", (600, 450)),\n",
    "    (\"outdoor\", (600, 900)),\n",
    "    (\"night\", (800, 533)),\n",
    "]:\n",
    "    directory = Path(\"cadik/tonemapped_images\") / image_name\n",
    "    hdr_brightness = None\n",
    "    tonemapper_losses = {}\n",
    "\n",
    "    print(f\"Calculating brightness response for {image_name} HDR image\")\n",
    "    for file in directory.iterdir():\n",
    "        if file.suffix == \".hdr\":\n",
    "            hdr_brightness = file_to_brightness(str(file), resize_width=width, resize_height=height)\n",
    "            break\n",
    "    print(f\"Calculating brightness response for {image_name} tonemapped images\")\n",
    "    for file in tqdm([f for f in directory.iterdir() if f.suffix == \".png\"], desc=image_name):\n",
    "        tonemapped_brightness = file_to_brightness(str(file), resize_width=width, resize_height=height)\n",
    "        tonemapper_losses[file.stem.lower()] = MSE(tonemapped_brightness, hdr_brightness)\n",
    "    tonemapper_brightness_losses[image_name] = tonemapper_losses\n",
    "\n",
    "print(json.dumps(tonemapper_brightness_losses, indent=2))"
   ]
  },
  {
   "cell_type": "code",
   "execution_count": null,
   "id": "02dae91d-c415-4ebe-9f96-040ab38af404",
   "metadata": {},
   "outputs": [],
   "source": [
    "import pandas as pd\n",
    "\n",
    "ranking_df = pd.read_csv(\"cadik/ranking_evaluation.csv\", header=[0,1])\n",
    "rating_df = pd.read_csv(\"cadik/rating_evaluation.csv\", header=[0,1])"
   ]
  },
  {
   "cell_type": "code",
   "execution_count": null,
   "id": "28f09f50-c1dc-4691-86b9-2e4fd01a8d59",
   "metadata": {},
   "outputs": [],
   "source": [
    "tm_ranking_dfs = {}\n",
    "\n",
    "for image_name in [\"indoor\", \"outdoor\", \"night\"]:\n",
    "    print(image_name)\n",
    "\n",
    "    headers = [\"dino\"]\n",
    "    # print(\"tone mappers ranked by brightness model:\")\n",
    "    dino = []\n",
    "    # Ascending order, lower loss is better\n",
    "    for i, (tm, _) in enumerate(sorted(tonemapper_brightness_losses[image_name].items(), key=lambda x: x[1])):\n",
    "        # print(f\"{i+1}. {tm}\")\n",
    "        dino.append(tm)\n",
    "\n",
    "    cols = [dino]\n",
    "    for df, name in [(ranking_df, \"ranking\"), (rating_df, \"rating\")]:\n",
    "        for header in df[image_name].columns[1:]:\n",
    "            # print(f\"tone mappers ranked by Cadik {header} {name}:\")\n",
    "            ranking = []\n",
    "            # Descending order, higher ranking is better\n",
    "            for i, tm in enumerate(df.sort_values((image_name, header), ascending=False)[image_name][\"tm\"].to_list()):\n",
    "                # print(f\"{i+1}. {tm}\")\n",
    "                ranking.append(tm)\n",
    "            cols.append(ranking)\n",
    "            headers.append(f\"{header}_{name}\")\n",
    "\n",
    "    tm_ranking_df = pd.DataFrame({h: col for h, col in zip(headers, cols, strict=True)})\n",
    "    tm_ranking_df.to_csv(f\"cadik/{image_name}_tm_ranking.csv\")\n",
    "    tm_ranking_dfs[image_name] = tm_ranking_df"
   ]
  },
  {
   "cell_type": "code",
   "execution_count": null,
   "id": "152f80f2-dbf4-40ea-a7dc-eab94da30362",
   "metadata": {},
   "outputs": [],
   "source": [
    "print(tm_ranking_dfs[\"indoor\"])"
   ]
  },
  {
   "cell_type": "code",
   "execution_count": null,
   "id": "807fd214-082c-4303-a0a4-2a7a0c16b3bd",
   "metadata": {},
   "outputs": [],
   "source": []
  }
 ],
 "metadata": {
  "kernelspec": {
   "display_name": "Python 3 (ipykernel)",
   "language": "python",
   "name": "python3"
  },
  "language_info": {
   "codemirror_mode": {
    "name": "ipython",
    "version": 3
   },
   "file_extension": ".py",
   "mimetype": "text/x-python",
   "name": "python",
   "nbconvert_exporter": "python",
   "pygments_lexer": "ipython3",
   "version": "3.12.7"
  }
 },
 "nbformat": 4,
 "nbformat_minor": 5
}
