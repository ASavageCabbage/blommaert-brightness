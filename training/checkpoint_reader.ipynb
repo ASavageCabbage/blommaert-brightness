{
 "cells": [
  {
   "cell_type": "code",
   "execution_count": 7,
   "id": "191117aa-b2bb-4c98-8823-b43adbf5221e",
   "metadata": {},
   "outputs": [
    {
     "name": "stdout",
     "output_type": "stream",
     "text": [
      "[0.01761072 2.2947392 ]\n"
     ]
    }
   ],
   "source": [
    "import torch\n",
    "\n",
    "checkpoint_file = \"checkpoints/rein-random-epoch10.pickle\"\n",
    "weights = torch.load(checkpoint_file, weights_only=False, map_location=torch.device('cpu'))[\"state_dict\"][\"weights\"].numpy()\n",
    "print(weights)"
   ]
  },
  {
   "cell_type": "code",
   "execution_count": null,
   "id": "aae6f897-1c60-48b3-a21b-ef37a5deab8e",
   "metadata": {},
   "outputs": [],
   "source": []
  }
 ],
 "metadata": {
  "kernelspec": {
   "display_name": "Python 3 (ipykernel)",
   "language": "python",
   "name": "python3"
  },
  "language_info": {
   "codemirror_mode": {
    "name": "ipython",
    "version": 3
   },
   "file_extension": ".py",
   "mimetype": "text/x-python",
   "name": "python",
   "nbconvert_exporter": "python",
   "pygments_lexer": "ipython3",
   "version": "3.12.8"
  }
 },
 "nbformat": 4,
 "nbformat_minor": 5
}
